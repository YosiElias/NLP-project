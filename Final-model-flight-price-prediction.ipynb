{
 "cells": [
  {
   "cell_type": "markdown",
   "metadata": {},
   "source": [
    "# Package Import"
   ]
  },
  {
   "cell_type": "code",
   "execution_count": 790,
   "metadata": {
    "execution": {
     "iopub.execute_input": "2023-01-05T23:38:20.482694Z",
     "iopub.status.busy": "2023-01-05T23:38:20.482331Z",
     "iopub.status.idle": "2023-01-05T23:38:27.057935Z",
     "shell.execute_reply": "2023-01-05T23:38:27.056949Z",
     "shell.execute_reply.started": "2023-01-05T23:38:20.482654Z"
    }
   },
   "outputs": [],
   "source": [
    "import numpy as np # linear algebra\n",
    "import pandas as pd # data processing, CSV file I/O (e.g. pd.read_csv)\n",
    "import seaborn as sns\n",
    "import matplotlib.pyplot as plt\n",
    "\n",
    "from sklearn.preprocessing import StandardScaler,MinMaxScaler,OneHotEncoder,LabelEncoder\n",
    "from sklearn.compose import ColumnTransformer,make_column_selector\n",
    "\n",
    "from sklearn.model_selection import train_test_split\n",
    "\n",
    "import tensorflow as tf\n",
    "\n",
    "from sklearn.metrics import mean_absolute_error,mean_squared_error,r2_score\n",
    "import xgboost as xgb\n",
    "\n",
    "# sns.set_style('darkgrid')\n",
    "\n",
    "# %matplotlib inline"
   ]
  },
  {
   "cell_type": "markdown",
   "metadata": {},
   "source": [
    "# Data Import"
   ]
  },
  {
   "cell_type": "code",
   "execution_count": 791,
   "metadata": {
    "execution": {
     "iopub.execute_input": "2023-01-05T23:38:27.062549Z",
     "iopub.status.busy": "2023-01-05T23:38:27.062005Z",
     "iopub.status.idle": "2023-01-05T23:38:27.715495Z",
     "shell.execute_reply": "2023-01-05T23:38:27.714548Z",
     "shell.execute_reply.started": "2023-01-05T23:38:27.062521Z"
    }
   },
   "outputs": [
    {
     "data": {
      "text/html": [
       "<div>\n",
       "<style scoped>\n",
       "    .dataframe tbody tr th:only-of-type {\n",
       "        vertical-align: middle;\n",
       "    }\n",
       "\n",
       "    .dataframe tbody tr th {\n",
       "        vertical-align: top;\n",
       "    }\n",
       "\n",
       "    .dataframe thead th {\n",
       "        text-align: right;\n",
       "    }\n",
       "</style>\n",
       "<table border=\"1\" class=\"dataframe\">\n",
       "  <thead>\n",
       "    <tr style=\"text-align: right;\">\n",
       "      <th></th>\n",
       "      <th>Unnamed: 0</th>\n",
       "      <th>airline</th>\n",
       "      <th>flight</th>\n",
       "      <th>source_city</th>\n",
       "      <th>departure_time</th>\n",
       "      <th>stops</th>\n",
       "      <th>arrival_time</th>\n",
       "      <th>destination_city</th>\n",
       "      <th>class</th>\n",
       "      <th>duration</th>\n",
       "      <th>days_left</th>\n",
       "      <th>price</th>\n",
       "    </tr>\n",
       "  </thead>\n",
       "  <tbody>\n",
       "    <tr>\n",
       "      <th>0</th>\n",
       "      <td>0</td>\n",
       "      <td>SpiceJet</td>\n",
       "      <td>SG-8709</td>\n",
       "      <td>Delhi</td>\n",
       "      <td>Evening</td>\n",
       "      <td>zero</td>\n",
       "      <td>Night</td>\n",
       "      <td>Mumbai</td>\n",
       "      <td>Economy</td>\n",
       "      <td>2.17</td>\n",
       "      <td>1</td>\n",
       "      <td>5953</td>\n",
       "    </tr>\n",
       "    <tr>\n",
       "      <th>1</th>\n",
       "      <td>1</td>\n",
       "      <td>SpiceJet</td>\n",
       "      <td>SG-8157</td>\n",
       "      <td>Delhi</td>\n",
       "      <td>Early_Morning</td>\n",
       "      <td>zero</td>\n",
       "      <td>Morning</td>\n",
       "      <td>Mumbai</td>\n",
       "      <td>Economy</td>\n",
       "      <td>2.33</td>\n",
       "      <td>1</td>\n",
       "      <td>5953</td>\n",
       "    </tr>\n",
       "    <tr>\n",
       "      <th>2</th>\n",
       "      <td>2</td>\n",
       "      <td>AirAsia</td>\n",
       "      <td>I5-764</td>\n",
       "      <td>Delhi</td>\n",
       "      <td>Early_Morning</td>\n",
       "      <td>zero</td>\n",
       "      <td>Early_Morning</td>\n",
       "      <td>Mumbai</td>\n",
       "      <td>Economy</td>\n",
       "      <td>2.17</td>\n",
       "      <td>1</td>\n",
       "      <td>5956</td>\n",
       "    </tr>\n",
       "    <tr>\n",
       "      <th>3</th>\n",
       "      <td>3</td>\n",
       "      <td>Vistara</td>\n",
       "      <td>UK-995</td>\n",
       "      <td>Delhi</td>\n",
       "      <td>Morning</td>\n",
       "      <td>zero</td>\n",
       "      <td>Afternoon</td>\n",
       "      <td>Mumbai</td>\n",
       "      <td>Economy</td>\n",
       "      <td>2.25</td>\n",
       "      <td>1</td>\n",
       "      <td>5955</td>\n",
       "    </tr>\n",
       "    <tr>\n",
       "      <th>4</th>\n",
       "      <td>4</td>\n",
       "      <td>Vistara</td>\n",
       "      <td>UK-963</td>\n",
       "      <td>Delhi</td>\n",
       "      <td>Morning</td>\n",
       "      <td>zero</td>\n",
       "      <td>Morning</td>\n",
       "      <td>Mumbai</td>\n",
       "      <td>Economy</td>\n",
       "      <td>2.33</td>\n",
       "      <td>1</td>\n",
       "      <td>5955</td>\n",
       "    </tr>\n",
       "    <tr>\n",
       "      <th>...</th>\n",
       "      <td>...</td>\n",
       "      <td>...</td>\n",
       "      <td>...</td>\n",
       "      <td>...</td>\n",
       "      <td>...</td>\n",
       "      <td>...</td>\n",
       "      <td>...</td>\n",
       "      <td>...</td>\n",
       "      <td>...</td>\n",
       "      <td>...</td>\n",
       "      <td>...</td>\n",
       "      <td>...</td>\n",
       "    </tr>\n",
       "    <tr>\n",
       "      <th>300148</th>\n",
       "      <td>300148</td>\n",
       "      <td>Vistara</td>\n",
       "      <td>UK-822</td>\n",
       "      <td>Chennai</td>\n",
       "      <td>Morning</td>\n",
       "      <td>one</td>\n",
       "      <td>Evening</td>\n",
       "      <td>Hyderabad</td>\n",
       "      <td>Business</td>\n",
       "      <td>10.08</td>\n",
       "      <td>49</td>\n",
       "      <td>69265</td>\n",
       "    </tr>\n",
       "    <tr>\n",
       "      <th>300149</th>\n",
       "      <td>300149</td>\n",
       "      <td>Vistara</td>\n",
       "      <td>UK-826</td>\n",
       "      <td>Chennai</td>\n",
       "      <td>Afternoon</td>\n",
       "      <td>one</td>\n",
       "      <td>Night</td>\n",
       "      <td>Hyderabad</td>\n",
       "      <td>Business</td>\n",
       "      <td>10.42</td>\n",
       "      <td>49</td>\n",
       "      <td>77105</td>\n",
       "    </tr>\n",
       "    <tr>\n",
       "      <th>300150</th>\n",
       "      <td>300150</td>\n",
       "      <td>Vistara</td>\n",
       "      <td>UK-832</td>\n",
       "      <td>Chennai</td>\n",
       "      <td>Early_Morning</td>\n",
       "      <td>one</td>\n",
       "      <td>Night</td>\n",
       "      <td>Hyderabad</td>\n",
       "      <td>Business</td>\n",
       "      <td>13.83</td>\n",
       "      <td>49</td>\n",
       "      <td>79099</td>\n",
       "    </tr>\n",
       "    <tr>\n",
       "      <th>300151</th>\n",
       "      <td>300151</td>\n",
       "      <td>Vistara</td>\n",
       "      <td>UK-828</td>\n",
       "      <td>Chennai</td>\n",
       "      <td>Early_Morning</td>\n",
       "      <td>one</td>\n",
       "      <td>Evening</td>\n",
       "      <td>Hyderabad</td>\n",
       "      <td>Business</td>\n",
       "      <td>10.00</td>\n",
       "      <td>49</td>\n",
       "      <td>81585</td>\n",
       "    </tr>\n",
       "    <tr>\n",
       "      <th>300152</th>\n",
       "      <td>300152</td>\n",
       "      <td>Vistara</td>\n",
       "      <td>UK-822</td>\n",
       "      <td>Chennai</td>\n",
       "      <td>Morning</td>\n",
       "      <td>one</td>\n",
       "      <td>Evening</td>\n",
       "      <td>Hyderabad</td>\n",
       "      <td>Business</td>\n",
       "      <td>10.08</td>\n",
       "      <td>49</td>\n",
       "      <td>81585</td>\n",
       "    </tr>\n",
       "  </tbody>\n",
       "</table>\n",
       "<p>300153 rows × 12 columns</p>\n",
       "</div>"
      ],
      "text/plain": [
       "        Unnamed: 0   airline   flight source_city departure_time stops  \\\n",
       "0                0  SpiceJet  SG-8709       Delhi        Evening  zero   \n",
       "1                1  SpiceJet  SG-8157       Delhi  Early_Morning  zero   \n",
       "2                2   AirAsia   I5-764       Delhi  Early_Morning  zero   \n",
       "3                3   Vistara   UK-995       Delhi        Morning  zero   \n",
       "4                4   Vistara   UK-963       Delhi        Morning  zero   \n",
       "...            ...       ...      ...         ...            ...   ...   \n",
       "300148      300148   Vistara   UK-822     Chennai        Morning   one   \n",
       "300149      300149   Vistara   UK-826     Chennai      Afternoon   one   \n",
       "300150      300150   Vistara   UK-832     Chennai  Early_Morning   one   \n",
       "300151      300151   Vistara   UK-828     Chennai  Early_Morning   one   \n",
       "300152      300152   Vistara   UK-822     Chennai        Morning   one   \n",
       "\n",
       "         arrival_time destination_city     class  duration  days_left  price  \n",
       "0               Night           Mumbai   Economy      2.17          1   5953  \n",
       "1             Morning           Mumbai   Economy      2.33          1   5953  \n",
       "2       Early_Morning           Mumbai   Economy      2.17          1   5956  \n",
       "3           Afternoon           Mumbai   Economy      2.25          1   5955  \n",
       "4             Morning           Mumbai   Economy      2.33          1   5955  \n",
       "...               ...              ...       ...       ...        ...    ...  \n",
       "300148        Evening        Hyderabad  Business     10.08         49  69265  \n",
       "300149          Night        Hyderabad  Business     10.42         49  77105  \n",
       "300150          Night        Hyderabad  Business     13.83         49  79099  \n",
       "300151        Evening        Hyderabad  Business     10.00         49  81585  \n",
       "300152        Evening        Hyderabad  Business     10.08         49  81585  \n",
       "\n",
       "[300153 rows x 12 columns]"
      ]
     },
     "execution_count": 791,
     "metadata": {},
     "output_type": "execute_result"
    }
   ],
   "source": [
    "df=pd.read_csv(\"C:/Users/Aviva/Desktop/NLP/data/Clean_Dataset.csv\")\n",
    "df"
   ]
  },
  {
   "cell_type": "markdown",
   "metadata": {},
   "source": [
    "# Analyze the data"
   ]
  },
  {
   "cell_type": "code",
   "execution_count": 792,
   "metadata": {
    "execution": {
     "iopub.execute_input": "2023-01-05T23:38:34.506124Z",
     "iopub.status.busy": "2023-01-05T23:38:34.505676Z",
     "iopub.status.idle": "2023-01-05T23:38:34.608621Z",
     "shell.execute_reply": "2023-01-05T23:38:34.607445Z",
     "shell.execute_reply.started": "2023-01-05T23:38:34.506081Z"
    }
   },
   "outputs": [
    {
     "name": "stdout",
     "output_type": "stream",
     "text": [
      "<class 'pandas.core.frame.DataFrame'>\n",
      "RangeIndex: 300153 entries, 0 to 300152\n",
      "Data columns (total 12 columns):\n",
      " #   Column            Non-Null Count   Dtype  \n",
      "---  ------            --------------   -----  \n",
      " 0   Unnamed: 0        300153 non-null  int64  \n",
      " 1   airline           300153 non-null  object \n",
      " 2   flight            300153 non-null  object \n",
      " 3   source_city       300153 non-null  object \n",
      " 4   departure_time    300153 non-null  object \n",
      " 5   stops             300153 non-null  object \n",
      " 6   arrival_time      300153 non-null  object \n",
      " 7   destination_city  300153 non-null  object \n",
      " 8   class             300153 non-null  object \n",
      " 9   duration          300153 non-null  float64\n",
      " 10  days_left         300153 non-null  int64  \n",
      " 11  price             300153 non-null  int64  \n",
      "dtypes: float64(1), int64(3), object(8)\n",
      "memory usage: 27.5+ MB\n"
     ]
    }
   ],
   "source": [
    "df.info()"
   ]
  },
  {
   "cell_type": "code",
   "execution_count": 793,
   "metadata": {
    "execution": {
     "iopub.execute_input": "2023-01-05T23:38:34.610782Z",
     "iopub.status.busy": "2023-01-05T23:38:34.610217Z",
     "iopub.status.idle": "2023-01-05T23:38:34.659332Z",
     "shell.execute_reply": "2023-01-05T23:38:34.658211Z",
     "shell.execute_reply.started": "2023-01-05T23:38:34.610742Z"
    }
   },
   "outputs": [
    {
     "data": {
      "text/html": [
       "<div>\n",
       "<style scoped>\n",
       "    .dataframe tbody tr th:only-of-type {\n",
       "        vertical-align: middle;\n",
       "    }\n",
       "\n",
       "    .dataframe tbody tr th {\n",
       "        vertical-align: top;\n",
       "    }\n",
       "\n",
       "    .dataframe thead th {\n",
       "        text-align: right;\n",
       "    }\n",
       "</style>\n",
       "<table border=\"1\" class=\"dataframe\">\n",
       "  <thead>\n",
       "    <tr style=\"text-align: right;\">\n",
       "      <th></th>\n",
       "      <th>Unnamed: 0</th>\n",
       "      <th>duration</th>\n",
       "      <th>days_left</th>\n",
       "      <th>price</th>\n",
       "    </tr>\n",
       "  </thead>\n",
       "  <tbody>\n",
       "    <tr>\n",
       "      <th>count</th>\n",
       "      <td>300153.000000</td>\n",
       "      <td>300153.000000</td>\n",
       "      <td>300153.000000</td>\n",
       "      <td>300153.000000</td>\n",
       "    </tr>\n",
       "    <tr>\n",
       "      <th>mean</th>\n",
       "      <td>150076.000000</td>\n",
       "      <td>12.221021</td>\n",
       "      <td>26.004751</td>\n",
       "      <td>20889.660523</td>\n",
       "    </tr>\n",
       "    <tr>\n",
       "      <th>std</th>\n",
       "      <td>86646.852011</td>\n",
       "      <td>7.191997</td>\n",
       "      <td>13.561004</td>\n",
       "      <td>22697.767366</td>\n",
       "    </tr>\n",
       "    <tr>\n",
       "      <th>min</th>\n",
       "      <td>0.000000</td>\n",
       "      <td>0.830000</td>\n",
       "      <td>1.000000</td>\n",
       "      <td>1105.000000</td>\n",
       "    </tr>\n",
       "    <tr>\n",
       "      <th>25%</th>\n",
       "      <td>75038.000000</td>\n",
       "      <td>6.830000</td>\n",
       "      <td>15.000000</td>\n",
       "      <td>4783.000000</td>\n",
       "    </tr>\n",
       "    <tr>\n",
       "      <th>50%</th>\n",
       "      <td>150076.000000</td>\n",
       "      <td>11.250000</td>\n",
       "      <td>26.000000</td>\n",
       "      <td>7425.000000</td>\n",
       "    </tr>\n",
       "    <tr>\n",
       "      <th>75%</th>\n",
       "      <td>225114.000000</td>\n",
       "      <td>16.170000</td>\n",
       "      <td>38.000000</td>\n",
       "      <td>42521.000000</td>\n",
       "    </tr>\n",
       "    <tr>\n",
       "      <th>max</th>\n",
       "      <td>300152.000000</td>\n",
       "      <td>49.830000</td>\n",
       "      <td>49.000000</td>\n",
       "      <td>123071.000000</td>\n",
       "    </tr>\n",
       "  </tbody>\n",
       "</table>\n",
       "</div>"
      ],
      "text/plain": [
       "          Unnamed: 0       duration      days_left          price\n",
       "count  300153.000000  300153.000000  300153.000000  300153.000000\n",
       "mean   150076.000000      12.221021      26.004751   20889.660523\n",
       "std     86646.852011       7.191997      13.561004   22697.767366\n",
       "min         0.000000       0.830000       1.000000    1105.000000\n",
       "25%     75038.000000       6.830000      15.000000    4783.000000\n",
       "50%    150076.000000      11.250000      26.000000    7425.000000\n",
       "75%    225114.000000      16.170000      38.000000   42521.000000\n",
       "max    300152.000000      49.830000      49.000000  123071.000000"
      ]
     },
     "execution_count": 793,
     "metadata": {},
     "output_type": "execute_result"
    }
   ],
   "source": [
    "df.describe()"
   ]
  },
  {
   "cell_type": "code",
   "execution_count": 794,
   "metadata": {
    "execution": {
     "iopub.execute_input": "2023-01-05T23:38:34.661294Z",
     "iopub.status.busy": "2023-01-05T23:38:34.660933Z",
     "iopub.status.idle": "2023-01-05T23:38:34.836239Z",
     "shell.execute_reply": "2023-01-05T23:38:34.835134Z",
     "shell.execute_reply.started": "2023-01-05T23:38:34.661259Z"
    }
   },
   "outputs": [
    {
     "name": "stdout",
     "output_type": "stream",
     "text": [
      "airline                   --->               6 unique values\n",
      "flight                    --->            1561 unique values\n",
      "source_city               --->               6 unique values\n",
      "departure_time            --->               6 unique values\n",
      "stops                     --->               3 unique values\n",
      "arrival_time              --->               6 unique values\n",
      "destination_city          --->               6 unique values\n",
      "class                     --->               2 unique values\n"
     ]
    }
   ],
   "source": [
    "for col in df.select_dtypes(include='object').columns:\n",
    "    \n",
    "    print(f\"{col:25} ---> {df[col].nunique():15} unique values\")"
   ]
  },
  {
   "cell_type": "code",
   "execution_count": 795,
   "metadata": {},
   "outputs": [
    {
     "data": {
      "text/plain": [
       "class\n",
       "Business    52540.081124\n",
       "Economy      6572.342383\n",
       "Name: price, dtype: float64"
      ]
     },
     "execution_count": 795,
     "metadata": {},
     "output_type": "execute_result"
    }
   ],
   "source": [
    "df.groupby('class')['price'].mean()"
   ]
  },
  {
   "cell_type": "markdown",
   "metadata": {},
   "source": [
    "### search for outlier in the data"
   ]
  },
  {
   "cell_type": "code",
   "execution_count": 796,
   "metadata": {},
   "outputs": [
    {
     "data": {
      "image/png": "[encoded data removed]",
      "text/plain": [
       "<Figure size 640x480 with 1 Axes>"
      ]
     },
     "metadata": {},
     "output_type": "display_data"
    }
   ],
   "source": [
    "feature = \"duration\"\n",
    "sns.boxplot(data=df, x=feature)\n",
    "\n",
    "# Show the plot\n",
    "plt.show()"
   ]
  },
  {
   "cell_type": "code",
   "execution_count": 797,
   "metadata": {},
   "outputs": [
    {
     "data": {
      "image/png": "[encoded data removed]",
      "text/plain": [
       "<Figure size 640x480 with 1 Axes>"
      ]
     },
     "metadata": {},
     "output_type": "display_data"
    }
   ],
   "source": [
    "feature = \"price\"\n",
    "sns.boxplot(data=df, x=feature)\n",
    "\n",
    "# Show the plot\n",
    "plt.show()"
   ]
  },
  {
   "cell_type": "code",
   "execution_count": 798,
   "metadata": {},
   "outputs": [
    {
     "data": {
      "image/png": "[encoded data removed]",
      "text/plain": [
       "<Figure size 640x480 with 1 Axes>"
      ]
     },
     "metadata": {},
     "output_type": "display_data"
    }
   ],
   "source": [
    "feature = \"days_left\"\n",
    "sns.boxplot(data=df, x=feature)\n",
    "\n",
    "# Show the plot\n",
    "plt.show()"
   ]
  },
  {
   "cell_type": "code",
   "execution_count": 799,
   "metadata": {},
   "outputs": [
    {
     "data": {
      "text/html": [
       "<div>\n",
       "<style scoped>\n",
       "    .dataframe tbody tr th:only-of-type {\n",
       "        vertical-align: middle;\n",
       "    }\n",
       "\n",
       "    .dataframe tbody tr th {\n",
       "        vertical-align: top;\n",
       "    }\n",
       "\n",
       "    .dataframe thead th {\n",
       "        text-align: right;\n",
       "    }\n",
       "</style>\n",
       "<table border=\"1\" class=\"dataframe\">\n",
       "  <thead>\n",
       "    <tr style=\"text-align: right;\">\n",
       "      <th></th>\n",
       "      <th>Unnamed: 0</th>\n",
       "      <th>airline</th>\n",
       "      <th>flight</th>\n",
       "      <th>source_city</th>\n",
       "      <th>departure_time</th>\n",
       "      <th>stops</th>\n",
       "      <th>arrival_time</th>\n",
       "      <th>destination_city</th>\n",
       "      <th>class</th>\n",
       "      <th>duration</th>\n",
       "      <th>days_left</th>\n",
       "      <th>price</th>\n",
       "    </tr>\n",
       "  </thead>\n",
       "  <tbody>\n",
       "    <tr>\n",
       "      <th>119508</th>\n",
       "      <td>119508</td>\n",
       "      <td>Air_India</td>\n",
       "      <td>AI-610</td>\n",
       "      <td>Bangalore</td>\n",
       "      <td>Evening</td>\n",
       "      <td>one</td>\n",
       "      <td>Evening</td>\n",
       "      <td>Chennai</td>\n",
       "      <td>Economy</td>\n",
       "      <td>47.75</td>\n",
       "      <td>47</td>\n",
       "      <td>7461</td>\n",
       "    </tr>\n",
       "    <tr>\n",
       "      <th>193889</th>\n",
       "      <td>193889</td>\n",
       "      <td>Air_India</td>\n",
       "      <td>AI-672</td>\n",
       "      <td>Chennai</td>\n",
       "      <td>Evening</td>\n",
       "      <td>two_or_more</td>\n",
       "      <td>Evening</td>\n",
       "      <td>Bangalore</td>\n",
       "      <td>Economy</td>\n",
       "      <td>49.83</td>\n",
       "      <td>2</td>\n",
       "      <td>23891</td>\n",
       "    </tr>\n",
       "    <tr>\n",
       "      <th>193926</th>\n",
       "      <td>193926</td>\n",
       "      <td>Vistara</td>\n",
       "      <td>UK-822</td>\n",
       "      <td>Chennai</td>\n",
       "      <td>Morning</td>\n",
       "      <td>one</td>\n",
       "      <td>Morning</td>\n",
       "      <td>Bangalore</td>\n",
       "      <td>Economy</td>\n",
       "      <td>47.08</td>\n",
       "      <td>3</td>\n",
       "      <td>17223</td>\n",
       "    </tr>\n",
       "    <tr>\n",
       "      <th>194141</th>\n",
       "      <td>194141</td>\n",
       "      <td>Air_India</td>\n",
       "      <td>AI-429</td>\n",
       "      <td>Chennai</td>\n",
       "      <td>Afternoon</td>\n",
       "      <td>two_or_more</td>\n",
       "      <td>Morning</td>\n",
       "      <td>Bangalore</td>\n",
       "      <td>Economy</td>\n",
       "      <td>45.83</td>\n",
       "      <td>6</td>\n",
       "      <td>12813</td>\n",
       "    </tr>\n",
       "    <tr>\n",
       "      <th>194359</th>\n",
       "      <td>194359</td>\n",
       "      <td>Air_India</td>\n",
       "      <td>AI-672</td>\n",
       "      <td>Chennai</td>\n",
       "      <td>Evening</td>\n",
       "      <td>one</td>\n",
       "      <td>Evening</td>\n",
       "      <td>Bangalore</td>\n",
       "      <td>Economy</td>\n",
       "      <td>49.83</td>\n",
       "      <td>9</td>\n",
       "      <td>17538</td>\n",
       "    </tr>\n",
       "    <tr>\n",
       "      <th>194650</th>\n",
       "      <td>194650</td>\n",
       "      <td>Air_India</td>\n",
       "      <td>AI-429</td>\n",
       "      <td>Chennai</td>\n",
       "      <td>Afternoon</td>\n",
       "      <td>two_or_more</td>\n",
       "      <td>Morning</td>\n",
       "      <td>Bangalore</td>\n",
       "      <td>Economy</td>\n",
       "      <td>45.83</td>\n",
       "      <td>13</td>\n",
       "      <td>12813</td>\n",
       "    </tr>\n",
       "    <tr>\n",
       "      <th>261152</th>\n",
       "      <td>261152</td>\n",
       "      <td>Air_India</td>\n",
       "      <td>AI-610</td>\n",
       "      <td>Bangalore</td>\n",
       "      <td>Evening</td>\n",
       "      <td>one</td>\n",
       "      <td>Evening</td>\n",
       "      <td>Chennai</td>\n",
       "      <td>Business</td>\n",
       "      <td>47.75</td>\n",
       "      <td>47</td>\n",
       "      <td>55122</td>\n",
       "    </tr>\n",
       "    <tr>\n",
       "      <th>293606</th>\n",
       "      <td>293606</td>\n",
       "      <td>Air_India</td>\n",
       "      <td>AI-429</td>\n",
       "      <td>Chennai</td>\n",
       "      <td>Afternoon</td>\n",
       "      <td>two_or_more</td>\n",
       "      <td>Morning</td>\n",
       "      <td>Bangalore</td>\n",
       "      <td>Business</td>\n",
       "      <td>45.83</td>\n",
       "      <td>6</td>\n",
       "      <td>51928</td>\n",
       "    </tr>\n",
       "    <tr>\n",
       "      <th>215859</th>\n",
       "      <td>215859</td>\n",
       "      <td>Vistara</td>\n",
       "      <td>UK-809</td>\n",
       "      <td>Delhi</td>\n",
       "      <td>Evening</td>\n",
       "      <td>two_or_more</td>\n",
       "      <td>Evening</td>\n",
       "      <td>Kolkata</td>\n",
       "      <td>Business</td>\n",
       "      <td>21.08</td>\n",
       "      <td>1</td>\n",
       "      <td>116562</td>\n",
       "    </tr>\n",
       "    <tr>\n",
       "      <th>216096</th>\n",
       "      <td>216096</td>\n",
       "      <td>Vistara</td>\n",
       "      <td>UK-811</td>\n",
       "      <td>Delhi</td>\n",
       "      <td>Early_Morning</td>\n",
       "      <td>two_or_more</td>\n",
       "      <td>Evening</td>\n",
       "      <td>Kolkata</td>\n",
       "      <td>Business</td>\n",
       "      <td>10.92</td>\n",
       "      <td>5</td>\n",
       "      <td>117307</td>\n",
       "    </tr>\n",
       "    <tr>\n",
       "      <th>261377</th>\n",
       "      <td>261377</td>\n",
       "      <td>Vistara</td>\n",
       "      <td>UK-772</td>\n",
       "      <td>Kolkata</td>\n",
       "      <td>Morning</td>\n",
       "      <td>one</td>\n",
       "      <td>Night</td>\n",
       "      <td>Delhi</td>\n",
       "      <td>Business</td>\n",
       "      <td>13.50</td>\n",
       "      <td>3</td>\n",
       "      <td>123071</td>\n",
       "    </tr>\n",
       "    <tr>\n",
       "      <th>277345</th>\n",
       "      <td>277345</td>\n",
       "      <td>Vistara</td>\n",
       "      <td>UK-870</td>\n",
       "      <td>Hyderabad</td>\n",
       "      <td>Night</td>\n",
       "      <td>one</td>\n",
       "      <td>Afternoon</td>\n",
       "      <td>Mumbai</td>\n",
       "      <td>Business</td>\n",
       "      <td>16.42</td>\n",
       "      <td>3</td>\n",
       "      <td>115211</td>\n",
       "    </tr>\n",
       "  </tbody>\n",
       "</table>\n",
       "</div>"
      ],
      "text/plain": [
       "        Unnamed: 0    airline  flight source_city departure_time        stops  \\\n",
       "119508      119508  Air_India  AI-610   Bangalore        Evening          one   \n",
       "193889      193889  Air_India  AI-672     Chennai        Evening  two_or_more   \n",
       "193926      193926    Vistara  UK-822     Chennai        Morning          one   \n",
       "194141      194141  Air_India  AI-429     Chennai      Afternoon  two_or_more   \n",
       "194359      194359  Air_India  AI-672     Chennai        Evening          one   \n",
       "194650      194650  Air_India  AI-429     Chennai      Afternoon  two_or_more   \n",
       "261152      261152  Air_India  AI-610   Bangalore        Evening          one   \n",
       "293606      293606  Air_India  AI-429     Chennai      Afternoon  two_or_more   \n",
       "215859      215859    Vistara  UK-809       Delhi        Evening  two_or_more   \n",
       "216096      216096    Vistara  UK-811       Delhi  Early_Morning  two_or_more   \n",
       "261377      261377    Vistara  UK-772     Kolkata        Morning          one   \n",
       "277345      277345    Vistara  UK-870   Hyderabad          Night          one   \n",
       "\n",
       "       arrival_time destination_city     class  duration  days_left   price  \n",
       "119508      Evening          Chennai   Economy     47.75         47    7461  \n",
       "193889      Evening        Bangalore   Economy     49.83          2   23891  \n",
       "193926      Morning        Bangalore   Economy     47.08          3   17223  \n",
       "194141      Morning        Bangalore   Economy     45.83          6   12813  \n",
       "194359      Evening        Bangalore   Economy     49.83          9   17538  \n",
       "194650      Morning        Bangalore   Economy     45.83         13   12813  \n",
       "261152      Evening          Chennai  Business     47.75         47   55122  \n",
       "293606      Morning        Bangalore  Business     45.83          6   51928  \n",
       "215859      Evening          Kolkata  Business     21.08          1  116562  \n",
       "216096      Evening          Kolkata  Business     10.92          5  117307  \n",
       "261377        Night            Delhi  Business     13.50          3  123071  \n",
       "277345    Afternoon           Mumbai  Business     16.42          3  115211  "
      ]
     },
     "execution_count": 799,
     "metadata": {},
     "output_type": "execute_result"
    }
   ],
   "source": [
    "# print outliers\n",
    "outliers_price = df[df['price'] > 115000].index\n",
    "outliers = df[df['duration'] > 45].index\n",
    "outliers = outliers.append(outliers_price)\n",
    "outliers[:]\n",
    "df.loc[outliers[:], :]"
   ]
  },
  {
   "cell_type": "code",
   "execution_count": 800,
   "metadata": {},
   "outputs": [],
   "source": [
    "# cmap = sns.diverging_palette(30, 230, 90, 20, as_cmap=True)\n",
    "# fig, ax = plt.subplots(figsize=(12, 12))\n",
    "# sns.heatmap(df.corr(), annot=True, cmap=cmap)\n",
    "# sns.set(font_scale=1)\n",
    "\n",
    "# plt.figure(figsize=(15,8))\n",
    "# list1=['airline','source_city','departure_time','stops','arrival_time','destination_city','class','duration','days_left','price']\n",
    "# sns.heatmap(df[list1].corr(),annot=True)\n",
    "# plt.show()"
   ]
  },
  {
   "cell_type": "code",
   "execution_count": 801,
   "metadata": {},
   "outputs": [],
   "source": [
    "# sns.lineplot(x = df['duration'],y = df['price'],hue=df['class'])"
   ]
  },
  {
   "cell_type": "code",
   "execution_count": 802,
   "metadata": {
    "execution": {
     "iopub.execute_input": "2023-01-05T23:39:07.975879Z",
     "iopub.status.busy": "2023-01-05T23:39:07.975426Z",
     "iopub.status.idle": "2023-01-05T23:39:11.941133Z",
     "shell.execute_reply": "2023-01-05T23:39:11.940110Z",
     "shell.execute_reply.started": "2023-01-05T23:39:07.975842Z"
    }
   },
   "outputs": [],
   "source": [
    "# plt.figure(figsize=(15,8));\n",
    "# sns.barplot(x='airline',y='price',data=df)"
   ]
  },
  {
   "cell_type": "markdown",
   "metadata": {},
   "source": [
    "### Drop unnecessary columns"
   ]
  },
  {
   "cell_type": "code",
   "execution_count": 803,
   "metadata": {
    "execution": {
     "iopub.execute_input": "2023-01-05T23:38:34.838443Z",
     "iopub.status.busy": "2023-01-05T23:38:34.838032Z",
     "iopub.status.idle": "2023-01-05T23:38:34.872033Z",
     "shell.execute_reply": "2023-01-05T23:38:34.870934Z",
     "shell.execute_reply.started": "2023-01-05T23:38:34.838405Z"
    }
   },
   "outputs": [
    {
     "data": {
      "text/html": [
       "<div>\n",
       "<style scoped>\n",
       "    .dataframe tbody tr th:only-of-type {\n",
       "        vertical-align: middle;\n",
       "    }\n",
       "\n",
       "    .dataframe tbody tr th {\n",
       "        vertical-align: top;\n",
       "    }\n",
       "\n",
       "    .dataframe thead th {\n",
       "        text-align: right;\n",
       "    }\n",
       "</style>\n",
       "<table border=\"1\" class=\"dataframe\">\n",
       "  <thead>\n",
       "    <tr style=\"text-align: right;\">\n",
       "      <th></th>\n",
       "      <th>airline</th>\n",
       "      <th>source_city</th>\n",
       "      <th>departure_time</th>\n",
       "      <th>stops</th>\n",
       "      <th>arrival_time</th>\n",
       "      <th>destination_city</th>\n",
       "      <th>class</th>\n",
       "      <th>duration</th>\n",
       "      <th>days_left</th>\n",
       "      <th>price</th>\n",
       "    </tr>\n",
       "  </thead>\n",
       "  <tbody>\n",
       "    <tr>\n",
       "      <th>0</th>\n",
       "      <td>SpiceJet</td>\n",
       "      <td>Delhi</td>\n",
       "      <td>Evening</td>\n",
       "      <td>zero</td>\n",
       "      <td>Night</td>\n",
       "      <td>Mumbai</td>\n",
       "      <td>Economy</td>\n",
       "      <td>2.17</td>\n",
       "      <td>1</td>\n",
       "      <td>5953</td>\n",
       "    </tr>\n",
       "    <tr>\n",
       "      <th>1</th>\n",
       "      <td>SpiceJet</td>\n",
       "      <td>Delhi</td>\n",
       "      <td>Early_Morning</td>\n",
       "      <td>zero</td>\n",
       "      <td>Morning</td>\n",
       "      <td>Mumbai</td>\n",
       "      <td>Economy</td>\n",
       "      <td>2.33</td>\n",
       "      <td>1</td>\n",
       "      <td>5953</td>\n",
       "    </tr>\n",
       "    <tr>\n",
       "      <th>2</th>\n",
       "      <td>AirAsia</td>\n",
       "      <td>Delhi</td>\n",
       "      <td>Early_Morning</td>\n",
       "      <td>zero</td>\n",
       "      <td>Early_Morning</td>\n",
       "      <td>Mumbai</td>\n",
       "      <td>Economy</td>\n",
       "      <td>2.17</td>\n",
       "      <td>1</td>\n",
       "      <td>5956</td>\n",
       "    </tr>\n",
       "    <tr>\n",
       "      <th>3</th>\n",
       "      <td>Vistara</td>\n",
       "      <td>Delhi</td>\n",
       "      <td>Morning</td>\n",
       "      <td>zero</td>\n",
       "      <td>Afternoon</td>\n",
       "      <td>Mumbai</td>\n",
       "      <td>Economy</td>\n",
       "      <td>2.25</td>\n",
       "      <td>1</td>\n",
       "      <td>5955</td>\n",
       "    </tr>\n",
       "    <tr>\n",
       "      <th>4</th>\n",
       "      <td>Vistara</td>\n",
       "      <td>Delhi</td>\n",
       "      <td>Morning</td>\n",
       "      <td>zero</td>\n",
       "      <td>Morning</td>\n",
       "      <td>Mumbai</td>\n",
       "      <td>Economy</td>\n",
       "      <td>2.33</td>\n",
       "      <td>1</td>\n",
       "      <td>5955</td>\n",
       "    </tr>\n",
       "  </tbody>\n",
       "</table>\n",
       "</div>"
      ],
      "text/plain": [
       "    airline source_city departure_time stops   arrival_time destination_city  \\\n",
       "0  SpiceJet       Delhi        Evening  zero          Night           Mumbai   \n",
       "1  SpiceJet       Delhi  Early_Morning  zero        Morning           Mumbai   \n",
       "2   AirAsia       Delhi  Early_Morning  zero  Early_Morning           Mumbai   \n",
       "3   Vistara       Delhi        Morning  zero      Afternoon           Mumbai   \n",
       "4   Vistara       Delhi        Morning  zero        Morning           Mumbai   \n",
       "\n",
       "     class  duration  days_left  price  \n",
       "0  Economy      2.17          1   5953  \n",
       "1  Economy      2.33          1   5953  \n",
       "2  Economy      2.17          1   5956  \n",
       "3  Economy      2.25          1   5955  \n",
       "4  Economy      2.33          1   5955  "
      ]
     },
     "execution_count": 803,
     "metadata": {},
     "output_type": "execute_result"
    }
   ],
   "source": [
    "df=df.drop(['Unnamed: 0','flight'],axis=1)\n",
    "df.head()"
   ]
  },
  {
   "cell_type": "code",
   "execution_count": 804,
   "metadata": {
    "execution": {
     "iopub.execute_input": "2023-01-05T23:38:34.874628Z",
     "iopub.status.busy": "2023-01-05T23:38:34.874080Z",
     "iopub.status.idle": "2023-01-05T23:38:34.883814Z",
     "shell.execute_reply": "2023-01-05T23:38:34.882803Z",
     "shell.execute_reply.started": "2023-01-05T23:38:34.874586Z"
    }
   },
   "outputs": [
    {
     "data": {
      "text/plain": [
       "(300153, 10)"
      ]
     },
     "execution_count": 804,
     "metadata": {},
     "output_type": "execute_result"
    }
   ],
   "source": [
    "df.shape"
   ]
  },
  {
   "cell_type": "markdown",
   "metadata": {},
   "source": [
    "# Preper the data"
   ]
  },
  {
   "cell_type": "code",
   "execution_count": 805,
   "metadata": {
    "execution": {
     "iopub.execute_input": "2023-01-05T23:39:27.201935Z",
     "iopub.status.busy": "2023-01-05T23:39:27.201575Z",
     "iopub.status.idle": "2023-01-05T23:39:27.214765Z",
     "shell.execute_reply": "2023-01-05T23:39:27.213644Z",
     "shell.execute_reply.started": "2023-01-05T23:39:27.201898Z"
    }
   },
   "outputs": [
    {
     "data": {
      "text/html": [
       "<div>\n",
       "<style scoped>\n",
       "    .dataframe tbody tr th:only-of-type {\n",
       "        vertical-align: middle;\n",
       "    }\n",
       "\n",
       "    .dataframe tbody tr th {\n",
       "        vertical-align: top;\n",
       "    }\n",
       "\n",
       "    .dataframe thead th {\n",
       "        text-align: right;\n",
       "    }\n",
       "</style>\n",
       "<table border=\"1\" class=\"dataframe\">\n",
       "  <thead>\n",
       "    <tr style=\"text-align: right;\">\n",
       "      <th></th>\n",
       "      <th>stops</th>\n",
       "    </tr>\n",
       "  </thead>\n",
       "  <tbody>\n",
       "    <tr>\n",
       "      <th>0</th>\n",
       "      <td>zero</td>\n",
       "    </tr>\n",
       "    <tr>\n",
       "      <th>1</th>\n",
       "      <td>zero</td>\n",
       "    </tr>\n",
       "    <tr>\n",
       "      <th>2</th>\n",
       "      <td>zero</td>\n",
       "    </tr>\n",
       "    <tr>\n",
       "      <th>3</th>\n",
       "      <td>zero</td>\n",
       "    </tr>\n",
       "    <tr>\n",
       "      <th>4</th>\n",
       "      <td>zero</td>\n",
       "    </tr>\n",
       "  </tbody>\n",
       "</table>\n",
       "</div>"
      ],
      "text/plain": [
       "  stops\n",
       "0  zero\n",
       "1  zero\n",
       "2  zero\n",
       "3  zero\n",
       "4  zero"
      ]
     },
     "execution_count": 805,
     "metadata": {},
     "output_type": "execute_result"
    }
   ],
   "source": [
    "df[['stops']].head()"
   ]
  },
  {
   "cell_type": "code",
   "execution_count": 806,
   "metadata": {
    "execution": {
     "iopub.execute_input": "2023-01-05T23:39:27.216994Z",
     "iopub.status.busy": "2023-01-05T23:39:27.216538Z",
     "iopub.status.idle": "2023-01-05T23:39:27.251001Z",
     "shell.execute_reply": "2023-01-05T23:39:27.249975Z",
     "shell.execute_reply.started": "2023-01-05T23:39:27.216956Z"
    }
   },
   "outputs": [
    {
     "data": {
      "text/plain": [
       "stops      \n",
       "one            250863\n",
       "zero            36004\n",
       "two_or_more     13286\n",
       "dtype: int64"
      ]
     },
     "execution_count": 806,
     "metadata": {},
     "output_type": "execute_result"
    }
   ],
   "source": [
    "df[['stops']].value_counts()"
   ]
  },
  {
   "cell_type": "code",
   "execution_count": 807,
   "metadata": {
    "execution": {
     "iopub.execute_input": "2023-01-05T23:39:27.252876Z",
     "iopub.status.busy": "2023-01-05T23:39:27.252516Z",
     "iopub.status.idle": "2023-01-05T23:39:27.258020Z",
     "shell.execute_reply": "2023-01-05T23:39:27.256812Z",
     "shell.execute_reply.started": "2023-01-05T23:39:27.252842Z"
    }
   },
   "outputs": [],
   "source": [
    "# Converting the stops column using Label Encoder\n",
    "def mapper(x): \n",
    "    if(x=='zero'):\n",
    "        return 0\n",
    "    elif(x=='one'):\n",
    "        return 1\n",
    "    else:\n",
    "        return 2"
   ]
  },
  {
   "cell_type": "code",
   "execution_count": 808,
   "metadata": {
    "execution": {
     "iopub.execute_input": "2023-01-05T23:39:27.260026Z",
     "iopub.status.busy": "2023-01-05T23:39:27.259654Z",
     "iopub.status.idle": "2023-01-05T23:39:27.389539Z",
     "shell.execute_reply": "2023-01-05T23:39:27.386154Z",
     "shell.execute_reply.started": "2023-01-05T23:39:27.259970Z"
    }
   },
   "outputs": [],
   "source": [
    "df['stops']=df['stops'].apply(mapper)"
   ]
  },
  {
   "cell_type": "code",
   "execution_count": 809,
   "metadata": {
    "execution": {
     "iopub.execute_input": "2023-01-05T23:39:27.395047Z",
     "iopub.status.busy": "2023-01-05T23:39:27.393451Z",
     "iopub.status.idle": "2023-01-05T23:39:27.416703Z",
     "shell.execute_reply": "2023-01-05T23:39:27.415628Z",
     "shell.execute_reply.started": "2023-01-05T23:39:27.395001Z"
    }
   },
   "outputs": [
    {
     "data": {
      "text/html": [
       "<div>\n",
       "<style scoped>\n",
       "    .dataframe tbody tr th:only-of-type {\n",
       "        vertical-align: middle;\n",
       "    }\n",
       "\n",
       "    .dataframe tbody tr th {\n",
       "        vertical-align: top;\n",
       "    }\n",
       "\n",
       "    .dataframe thead th {\n",
       "        text-align: right;\n",
       "    }\n",
       "</style>\n",
       "<table border=\"1\" class=\"dataframe\">\n",
       "  <thead>\n",
       "    <tr style=\"text-align: right;\">\n",
       "      <th></th>\n",
       "      <th>stops</th>\n",
       "    </tr>\n",
       "  </thead>\n",
       "  <tbody>\n",
       "    <tr>\n",
       "      <th>0</th>\n",
       "      <td>0</td>\n",
       "    </tr>\n",
       "    <tr>\n",
       "      <th>1</th>\n",
       "      <td>0</td>\n",
       "    </tr>\n",
       "    <tr>\n",
       "      <th>2</th>\n",
       "      <td>0</td>\n",
       "    </tr>\n",
       "    <tr>\n",
       "      <th>3</th>\n",
       "      <td>0</td>\n",
       "    </tr>\n",
       "    <tr>\n",
       "      <th>4</th>\n",
       "      <td>0</td>\n",
       "    </tr>\n",
       "  </tbody>\n",
       "</table>\n",
       "</div>"
      ],
      "text/plain": [
       "   stops\n",
       "0      0\n",
       "1      0\n",
       "2      0\n",
       "3      0\n",
       "4      0"
      ]
     },
     "execution_count": 809,
     "metadata": {},
     "output_type": "execute_result"
    }
   ],
   "source": [
    "df[['stops']].head()"
   ]
  },
  {
   "cell_type": "code",
   "execution_count": 810,
   "metadata": {
    "execution": {
     "iopub.execute_input": "2023-01-05T23:39:27.419463Z",
     "iopub.status.busy": "2023-01-05T23:39:27.419062Z",
     "iopub.status.idle": "2023-01-05T23:39:27.441010Z",
     "shell.execute_reply": "2023-01-05T23:39:27.440133Z",
     "shell.execute_reply.started": "2023-01-05T23:39:27.419427Z"
    }
   },
   "outputs": [
    {
     "data": {
      "text/plain": [
       "stops\n",
       "1        250863\n",
       "0         36004\n",
       "2         13286\n",
       "dtype: int64"
      ]
     },
     "execution_count": 810,
     "metadata": {},
     "output_type": "execute_result"
    }
   ],
   "source": [
    "df[['stops']].value_counts()"
   ]
  },
  {
   "cell_type": "markdown",
   "metadata": {},
   "source": [
    "**Convert duration (hr format) into min format #Todo: need this convert?**"
   ]
  },
  {
   "cell_type": "code",
   "execution_count": 811,
   "metadata": {
    "execution": {
     "iopub.execute_input": "2023-01-05T23:39:27.444741Z",
     "iopub.status.busy": "2023-01-05T23:39:27.443877Z",
     "iopub.status.idle": "2023-01-05T23:39:27.458498Z",
     "shell.execute_reply": "2023-01-05T23:39:27.457198Z",
     "shell.execute_reply.started": "2023-01-05T23:39:27.444704Z"
    }
   },
   "outputs": [
    {
     "data": {
      "text/plain": [
       "0    2.17\n",
       "1    2.33\n",
       "2    2.17\n",
       "3    2.25\n",
       "4    2.33\n",
       "Name: duration, dtype: float64"
      ]
     },
     "execution_count": 811,
     "metadata": {},
     "output_type": "execute_result"
    }
   ],
   "source": [
    "df['duration'].head()"
   ]
  },
  {
   "cell_type": "code",
   "execution_count": 812,
   "metadata": {
    "execution": {
     "iopub.execute_input": "2023-01-05T23:39:27.460734Z",
     "iopub.status.busy": "2023-01-05T23:39:27.460270Z",
     "iopub.status.idle": "2023-01-05T23:39:27.799258Z",
     "shell.execute_reply": "2023-01-05T23:39:27.798215Z",
     "shell.execute_reply.started": "2023-01-05T23:39:27.460700Z"
    }
   },
   "outputs": [],
   "source": [
    "# df['duration']=df['duration'].apply(lambda x: int(round(x*60)))"
   ]
  },
  {
   "cell_type": "code",
   "execution_count": 813,
   "metadata": {
    "execution": {
     "iopub.execute_input": "2023-01-05T23:39:27.801690Z",
     "iopub.status.busy": "2023-01-05T23:39:27.800862Z",
     "iopub.status.idle": "2023-01-05T23:39:27.810697Z",
     "shell.execute_reply": "2023-01-05T23:39:27.809591Z",
     "shell.execute_reply.started": "2023-01-05T23:39:27.801643Z"
    }
   },
   "outputs": [],
   "source": [
    "# df['duration'].head()"
   ]
  },
  {
   "cell_type": "markdown",
   "metadata": {},
   "source": [
    "**Preprocess pipeline formation to convert object type**"
   ]
  },
  {
   "cell_type": "code",
   "execution_count": 814,
   "metadata": {
    "execution": {
     "iopub.execute_input": "2023-01-05T23:39:27.813548Z",
     "iopub.status.busy": "2023-01-05T23:39:27.812660Z",
     "iopub.status.idle": "2023-01-05T23:39:28.011407Z",
     "shell.execute_reply": "2023-01-05T23:39:28.010184Z",
     "shell.execute_reply.started": "2023-01-05T23:39:27.813509Z"
    }
   },
   "outputs": [
    {
     "name": "stdout",
     "output_type": "stream",
     "text": [
      "airline                   --->               6 unique values\n",
      "source_city               --->               6 unique values\n",
      "departure_time            --->               6 unique values\n",
      "arrival_time              --->               6 unique values\n",
      "destination_city          --->               6 unique values\n",
      "class                     --->               2 unique values\n"
     ]
    }
   ],
   "source": [
    "for col in df.select_dtypes(include='object').columns:\n",
    "    \n",
    "    print(f\"{col:25} ---> {df[col].nunique():15} unique values\")"
   ]
  },
  {
   "cell_type": "code",
   "execution_count": 815,
   "metadata": {
    "execution": {
     "iopub.execute_input": "2023-01-05T23:39:28.013922Z",
     "iopub.status.busy": "2023-01-05T23:39:28.013204Z",
     "iopub.status.idle": "2023-01-05T23:39:28.135194Z",
     "shell.execute_reply": "2023-01-05T23:39:28.134137Z",
     "shell.execute_reply.started": "2023-01-05T23:39:28.013882Z"
    }
   },
   "outputs": [
    {
     "name": "stdout",
     "output_type": "stream",
     "text": [
      "<class 'pandas.core.frame.DataFrame'>\n",
      "RangeIndex: 300153 entries, 0 to 300152\n",
      "Data columns (total 10 columns):\n",
      " #   Column            Non-Null Count   Dtype  \n",
      "---  ------            --------------   -----  \n",
      " 0   airline           300153 non-null  object \n",
      " 1   source_city       300153 non-null  object \n",
      " 2   departure_time    300153 non-null  object \n",
      " 3   stops             300153 non-null  int64  \n",
      " 4   arrival_time      300153 non-null  object \n",
      " 5   destination_city  300153 non-null  object \n",
      " 6   class             300153 non-null  object \n",
      " 7   duration          300153 non-null  float64\n",
      " 8   days_left         300153 non-null  int64  \n",
      " 9   price             300153 non-null  int64  \n",
      "dtypes: float64(1), int64(3), object(6)\n",
      "memory usage: 22.9+ MB\n"
     ]
    }
   ],
   "source": [
    "df.info()"
   ]
  },
  {
   "cell_type": "code",
   "execution_count": 816,
   "metadata": {
    "execution": {
     "iopub.execute_input": "2023-01-05T23:39:28.137742Z",
     "iopub.status.busy": "2023-01-05T23:39:28.137038Z",
     "iopub.status.idle": "2023-01-05T23:39:28.144436Z",
     "shell.execute_reply": "2023-01-05T23:39:28.143318Z",
     "shell.execute_reply.started": "2023-01-05T23:39:28.137702Z"
    }
   },
   "outputs": [],
   "source": [
    "oh=OneHotEncoder(drop='first',handle_unknown='ignore')\n",
    "ms,ss=MinMaxScaler(),StandardScaler()\n",
    "\n",
    "\n",
    "ct=ColumnTransformer([\n",
    "    (\"cat_encoder\",oh,make_column_selector(dtype_include='object')),\n",
    "    (\"num_encoder\",ms,make_column_selector(dtype_exclude='object'))\n",
    "],remainder='passthrough')"
   ]
  },
  {
   "cell_type": "code",
   "execution_count": 817,
   "metadata": {
    "execution": {
     "iopub.execute_input": "2023-01-05T23:39:28.152723Z",
     "iopub.status.busy": "2023-01-05T23:39:28.152360Z",
     "iopub.status.idle": "2023-01-05T23:39:28.168174Z",
     "shell.execute_reply": "2023-01-05T23:39:28.167062Z",
     "shell.execute_reply.started": "2023-01-05T23:39:28.152679Z"
    }
   },
   "outputs": [
    {
     "data": {
      "text/plain": [
       "ColumnTransformer(remainder='passthrough',\n",
       "                  transformers=[('cat_encoder',\n",
       "                                 OneHotEncoder(drop='first',\n",
       "                                               handle_unknown='ignore'),\n",
       "                                 <sklearn.compose._column_transformer.make_column_selector object at 0x0000016883FE2C40>),\n",
       "                                ('num_encoder', MinMaxScaler(),\n",
       "                                 <sklearn.compose._column_transformer.make_column_selector object at 0x0000016883FC4610>)])"
      ]
     },
     "execution_count": 817,
     "metadata": {},
     "output_type": "execute_result"
    }
   ],
   "source": [
    "ct"
   ]
  },
  {
   "cell_type": "markdown",
   "metadata": {},
   "source": [
    "# Train Test Split"
   ]
  },
  {
   "cell_type": "code",
   "execution_count": 818,
   "metadata": {
    "execution": {
     "iopub.execute_input": "2023-01-05T23:39:28.170471Z",
     "iopub.status.busy": "2023-01-05T23:39:28.169773Z",
     "iopub.status.idle": "2023-01-05T23:39:28.195925Z",
     "shell.execute_reply": "2023-01-05T23:39:28.194888Z",
     "shell.execute_reply.started": "2023-01-05T23:39:28.170417Z"
    }
   },
   "outputs": [],
   "source": [
    "X=df.drop(['price'],axis=1)\n",
    "y=df[['price']]"
   ]
  },
  {
   "cell_type": "code",
   "execution_count": 819,
   "metadata": {
    "execution": {
     "iopub.execute_input": "2023-01-05T23:39:28.202252Z",
     "iopub.status.busy": "2023-01-05T23:39:28.199762Z",
     "iopub.status.idle": "2023-01-05T23:39:28.479314Z",
     "shell.execute_reply": "2023-01-05T23:39:28.478252Z",
     "shell.execute_reply.started": "2023-01-05T23:39:28.202212Z"
    }
   },
   "outputs": [],
   "source": [
    "X_train,X_test,y_train,y_test=train_test_split(X,y,test_size=0.1,random_state=42)\n",
    "X_train,X_val,y_train,y_val=train_test_split(X_train,y_train,test_size=0.2,random_state=42)"
   ]
  },
  {
   "cell_type": "code",
   "execution_count": 820,
   "metadata": {
    "execution": {
     "iopub.execute_input": "2023-01-05T23:39:28.487273Z",
     "iopub.status.busy": "2023-01-05T23:39:28.484550Z",
     "iopub.status.idle": "2023-01-05T23:39:28.498633Z",
     "shell.execute_reply": "2023-01-05T23:39:28.497650Z",
     "shell.execute_reply.started": "2023-01-05T23:39:28.487231Z"
    }
   },
   "outputs": [
    {
     "data": {
      "text/plain": [
       "((216109, 9), (30016, 9), (54028, 9), (216109, 1), (30016, 1), (54028, 1))"
      ]
     },
     "execution_count": 820,
     "metadata": {},
     "output_type": "execute_result"
    }
   ],
   "source": [
    "X_train.shape,X_test.shape,X_val.shape,y_train.shape,y_test.shape,y_val.shape"
   ]
  },
  {
   "cell_type": "code",
   "execution_count": 821,
   "metadata": {},
   "outputs": [
    {
     "name": "stdout",
     "output_type": "stream",
     "text": [
      "---- removed index: ----\n",
      "Int64Index([194141, 194650, 119508, 193889, 193926, 293606, 215859, 261377,\n",
      "            216096, 261152, 194359, 277345],\n",
      "           dtype='int64')\n",
      "-----------------------\n"
     ]
    }
   ],
   "source": [
    "# drop outliers from fit data (train and val)\n",
    "def remove_outliers(dataFX, dataFY):\n",
    "    outliers_price = dataFY[dataFY['price'] > 115000].index\n",
    "    outliers = dataFX[dataFX['duration'] > 45].index\n",
    "    outliers = outliers.append(outliers_price)\n",
    "    outliers[:]\n",
    "    dataFX = dataFX.drop(outliers)\n",
    "    dataFY = dataFY.drop(outliers)\n",
    "    return outliers, dataFX, dataFY\n",
    "    df = df.drop(to_drop)\n",
    "    \n",
    "allIndex, X_train, y_train = remove_outliers(X_train, y_train)\n",
    "lastIndex, X_val, y_val = remove_outliers(X_val, y_val)\n",
    "allIndex = allIndex.append(lastIndex)\n",
    "\n",
    "print(f'---- removed index: ----\\n{allIndex}\\n-----------------------')"
   ]
  },
  {
   "cell_type": "code",
   "execution_count": 822,
   "metadata": {},
   "outputs": [
    {
     "data": {
      "text/plain": [
       "((216100, 9), (54025, 9), (216100, 1), (54025, 1))"
      ]
     },
     "execution_count": 822,
     "metadata": {},
     "output_type": "execute_result"
    }
   ],
   "source": [
    "X_train.shape, X_val.shape, y_train.shape, y_val.shape"
   ]
  },
  {
   "cell_type": "code",
   "execution_count": 823,
   "metadata": {
    "execution": {
     "iopub.execute_input": "2023-01-05T23:39:28.503810Z",
     "iopub.status.busy": "2023-01-05T23:39:28.502836Z",
     "iopub.status.idle": "2023-01-05T23:39:28.524432Z",
     "shell.execute_reply": "2023-01-05T23:39:28.523558Z",
     "shell.execute_reply.started": "2023-01-05T23:39:28.503758Z"
    }
   },
   "outputs": [
    {
     "data": {
      "text/html": [
       "<div>\n",
       "<style scoped>\n",
       "    .dataframe tbody tr th:only-of-type {\n",
       "        vertical-align: middle;\n",
       "    }\n",
       "\n",
       "    .dataframe tbody tr th {\n",
       "        vertical-align: top;\n",
       "    }\n",
       "\n",
       "    .dataframe thead th {\n",
       "        text-align: right;\n",
       "    }\n",
       "</style>\n",
       "<table border=\"1\" class=\"dataframe\">\n",
       "  <thead>\n",
       "    <tr style=\"text-align: right;\">\n",
       "      <th></th>\n",
       "      <th>airline</th>\n",
       "      <th>source_city</th>\n",
       "      <th>departure_time</th>\n",
       "      <th>stops</th>\n",
       "      <th>arrival_time</th>\n",
       "      <th>destination_city</th>\n",
       "      <th>class</th>\n",
       "      <th>duration</th>\n",
       "      <th>days_left</th>\n",
       "    </tr>\n",
       "  </thead>\n",
       "  <tbody>\n",
       "    <tr>\n",
       "      <th>27131</th>\n",
       "      <td>Air_India</td>\n",
       "      <td>Delhi</td>\n",
       "      <td>Morning</td>\n",
       "      <td>1</td>\n",
       "      <td>Early_Morning</td>\n",
       "      <td>Kolkata</td>\n",
       "      <td>Economy</td>\n",
       "      <td>19.75</td>\n",
       "      <td>40</td>\n",
       "    </tr>\n",
       "    <tr>\n",
       "      <th>266857</th>\n",
       "      <td>Vistara</td>\n",
       "      <td>Kolkata</td>\n",
       "      <td>Morning</td>\n",
       "      <td>1</td>\n",
       "      <td>Night</td>\n",
       "      <td>Mumbai</td>\n",
       "      <td>Business</td>\n",
       "      <td>9.83</td>\n",
       "      <td>42</td>\n",
       "    </tr>\n",
       "  </tbody>\n",
       "</table>\n",
       "</div>"
      ],
      "text/plain": [
       "          airline source_city departure_time  stops   arrival_time  \\\n",
       "27131   Air_India       Delhi        Morning      1  Early_Morning   \n",
       "266857    Vistara     Kolkata        Morning      1          Night   \n",
       "\n",
       "       destination_city     class  duration  days_left  \n",
       "27131           Kolkata   Economy     19.75         40  \n",
       "266857           Mumbai  Business      9.83         42  "
      ]
     },
     "execution_count": 823,
     "metadata": {},
     "output_type": "execute_result"
    }
   ],
   "source": [
    "X_test.head(2)"
   ]
  },
  {
   "cell_type": "code",
   "execution_count": 824,
   "metadata": {
    "execution": {
     "iopub.execute_input": "2023-01-05T23:39:28.530970Z",
     "iopub.status.busy": "2023-01-05T23:39:28.528450Z",
     "iopub.status.idle": "2023-01-05T23:39:28.543653Z",
     "shell.execute_reply": "2023-01-05T23:39:28.542631Z",
     "shell.execute_reply.started": "2023-01-05T23:39:28.530921Z"
    }
   },
   "outputs": [
    {
     "data": {
      "text/html": [
       "<div>\n",
       "<style scoped>\n",
       "    .dataframe tbody tr th:only-of-type {\n",
       "        vertical-align: middle;\n",
       "    }\n",
       "\n",
       "    .dataframe tbody tr th {\n",
       "        vertical-align: top;\n",
       "    }\n",
       "\n",
       "    .dataframe thead th {\n",
       "        text-align: right;\n",
       "    }\n",
       "</style>\n",
       "<table border=\"1\" class=\"dataframe\">\n",
       "  <thead>\n",
       "    <tr style=\"text-align: right;\">\n",
       "      <th></th>\n",
       "      <th>price</th>\n",
       "    </tr>\n",
       "  </thead>\n",
       "  <tbody>\n",
       "    <tr>\n",
       "      <th>27131</th>\n",
       "      <td>7366</td>\n",
       "    </tr>\n",
       "    <tr>\n",
       "      <th>266857</th>\n",
       "      <td>64831</td>\n",
       "    </tr>\n",
       "  </tbody>\n",
       "</table>\n",
       "</div>"
      ],
      "text/plain": [
       "        price\n",
       "27131    7366\n",
       "266857  64831"
      ]
     },
     "execution_count": 824,
     "metadata": {},
     "output_type": "execute_result"
    }
   ],
   "source": [
    "y_test.head(2)"
   ]
  },
  {
   "cell_type": "markdown",
   "metadata": {},
   "source": [
    "# Data Preprocess part 2"
   ]
  },
  {
   "cell_type": "code",
   "execution_count": 825,
   "metadata": {},
   "outputs": [
    {
     "data": {
      "text/plain": [
       "(pandas.core.frame.DataFrame, (54025, 9), (216100, 9), 270125)"
      ]
     },
     "execution_count": 825,
     "metadata": {},
     "output_type": "execute_result"
    }
   ],
   "source": [
    "type(X_train), X_val.shape, X_train.shape, 216100+54025"
   ]
  },
  {
   "cell_type": "code",
   "execution_count": 826,
   "metadata": {},
   "outputs": [
    {
     "data": {
      "text/html": [
       "<div>\n",
       "<style scoped>\n",
       "    .dataframe tbody tr th:only-of-type {\n",
       "        vertical-align: middle;\n",
       "    }\n",
       "\n",
       "    .dataframe tbody tr th {\n",
       "        vertical-align: top;\n",
       "    }\n",
       "\n",
       "    .dataframe thead th {\n",
       "        text-align: right;\n",
       "    }\n",
       "</style>\n",
       "<table border=\"1\" class=\"dataframe\">\n",
       "  <thead>\n",
       "    <tr style=\"text-align: right;\">\n",
       "      <th></th>\n",
       "      <th>price</th>\n",
       "    </tr>\n",
       "  </thead>\n",
       "  <tbody>\n",
       "    <tr>\n",
       "      <th>275918</th>\n",
       "      <td>51875</td>\n",
       "    </tr>\n",
       "    <tr>\n",
       "      <th>180402</th>\n",
       "      <td>6287</td>\n",
       "    </tr>\n",
       "    <tr>\n",
       "      <th>165475</th>\n",
       "      <td>3700</td>\n",
       "    </tr>\n",
       "    <tr>\n",
       "      <th>211308</th>\n",
       "      <td>59033</td>\n",
       "    </tr>\n",
       "    <tr>\n",
       "      <th>32136</th>\n",
       "      <td>5530</td>\n",
       "    </tr>\n",
       "    <tr>\n",
       "      <th>...</th>\n",
       "      <td>...</td>\n",
       "    </tr>\n",
       "    <tr>\n",
       "      <th>18772</th>\n",
       "      <td>4499</td>\n",
       "    </tr>\n",
       "    <tr>\n",
       "      <th>262327</th>\n",
       "      <td>43910</td>\n",
       "    </tr>\n",
       "    <tr>\n",
       "      <th>195693</th>\n",
       "      <td>1654</td>\n",
       "    </tr>\n",
       "    <tr>\n",
       "      <th>78151</th>\n",
       "      <td>9201</td>\n",
       "    </tr>\n",
       "    <tr>\n",
       "      <th>220245</th>\n",
       "      <td>39321</td>\n",
       "    </tr>\n",
       "  </tbody>\n",
       "</table>\n",
       "<p>270125 rows × 1 columns</p>\n",
       "</div>"
      ],
      "text/plain": [
       "        price\n",
       "275918  51875\n",
       "180402   6287\n",
       "165475   3700\n",
       "211308  59033\n",
       "32136    5530\n",
       "...       ...\n",
       "18772    4499\n",
       "262327  43910\n",
       "195693   1654\n",
       "78151    9201\n",
       "220245  39321\n",
       "\n",
       "[270125 rows x 1 columns]"
      ]
     },
     "execution_count": 826,
     "metadata": {},
     "output_type": "execute_result"
    }
   ],
   "source": [
    "y_train_for_xgb = pd.concat([y_train, y_val])\n",
    "y_train_for_xgb"
   ]
  },
  {
   "cell_type": "code",
   "execution_count": 827,
   "metadata": {},
   "outputs": [
    {
     "data": {
      "text/html": [
       "<div>\n",
       "<style scoped>\n",
       "    .dataframe tbody tr th:only-of-type {\n",
       "        vertical-align: middle;\n",
       "    }\n",
       "\n",
       "    .dataframe tbody tr th {\n",
       "        vertical-align: top;\n",
       "    }\n",
       "\n",
       "    .dataframe thead th {\n",
       "        text-align: right;\n",
       "    }\n",
       "</style>\n",
       "<table border=\"1\" class=\"dataframe\">\n",
       "  <thead>\n",
       "    <tr style=\"text-align: right;\">\n",
       "      <th></th>\n",
       "      <th>airline</th>\n",
       "      <th>source_city</th>\n",
       "      <th>departure_time</th>\n",
       "      <th>stops</th>\n",
       "      <th>arrival_time</th>\n",
       "      <th>destination_city</th>\n",
       "      <th>class</th>\n",
       "      <th>duration</th>\n",
       "      <th>days_left</th>\n",
       "    </tr>\n",
       "  </thead>\n",
       "  <tbody>\n",
       "    <tr>\n",
       "      <th>275918</th>\n",
       "      <td>Vistara</td>\n",
       "      <td>Hyderabad</td>\n",
       "      <td>Afternoon</td>\n",
       "      <td>1</td>\n",
       "      <td>Late_Night</td>\n",
       "      <td>Delhi</td>\n",
       "      <td>Business</td>\n",
       "      <td>11.25</td>\n",
       "      <td>24</td>\n",
       "    </tr>\n",
       "    <tr>\n",
       "      <th>180402</th>\n",
       "      <td>Vistara</td>\n",
       "      <td>Hyderabad</td>\n",
       "      <td>Morning</td>\n",
       "      <td>1</td>\n",
       "      <td>Evening</td>\n",
       "      <td>Chennai</td>\n",
       "      <td>Economy</td>\n",
       "      <td>11.42</td>\n",
       "      <td>48</td>\n",
       "    </tr>\n",
       "    <tr>\n",
       "      <th>165475</th>\n",
       "      <td>GO_FIRST</td>\n",
       "      <td>Hyderabad</td>\n",
       "      <td>Morning</td>\n",
       "      <td>1</td>\n",
       "      <td>Evening</td>\n",
       "      <td>Mumbai</td>\n",
       "      <td>Economy</td>\n",
       "      <td>8.00</td>\n",
       "      <td>49</td>\n",
       "    </tr>\n",
       "    <tr>\n",
       "      <th>211308</th>\n",
       "      <td>Air_India</td>\n",
       "      <td>Delhi</td>\n",
       "      <td>Night</td>\n",
       "      <td>1</td>\n",
       "      <td>Night</td>\n",
       "      <td>Mumbai</td>\n",
       "      <td>Business</td>\n",
       "      <td>23.83</td>\n",
       "      <td>43</td>\n",
       "    </tr>\n",
       "    <tr>\n",
       "      <th>32136</th>\n",
       "      <td>Air_India</td>\n",
       "      <td>Delhi</td>\n",
       "      <td>Early_Morning</td>\n",
       "      <td>1</td>\n",
       "      <td>Evening</td>\n",
       "      <td>Hyderabad</td>\n",
       "      <td>Economy</td>\n",
       "      <td>12.83</td>\n",
       "      <td>27</td>\n",
       "    </tr>\n",
       "    <tr>\n",
       "      <th>...</th>\n",
       "      <td>...</td>\n",
       "      <td>...</td>\n",
       "      <td>...</td>\n",
       "      <td>...</td>\n",
       "      <td>...</td>\n",
       "      <td>...</td>\n",
       "      <td>...</td>\n",
       "      <td>...</td>\n",
       "      <td>...</td>\n",
       "    </tr>\n",
       "    <tr>\n",
       "      <th>18772</th>\n",
       "      <td>AirAsia</td>\n",
       "      <td>Delhi</td>\n",
       "      <td>Early_Morning</td>\n",
       "      <td>0</td>\n",
       "      <td>Morning</td>\n",
       "      <td>Bangalore</td>\n",
       "      <td>Economy</td>\n",
       "      <td>2.67</td>\n",
       "      <td>43</td>\n",
       "    </tr>\n",
       "    <tr>\n",
       "      <th>262327</th>\n",
       "      <td>Air_India</td>\n",
       "      <td>Kolkata</td>\n",
       "      <td>Evening</td>\n",
       "      <td>1</td>\n",
       "      <td>Evening</td>\n",
       "      <td>Delhi</td>\n",
       "      <td>Business</td>\n",
       "      <td>23.50</td>\n",
       "      <td>20</td>\n",
       "    </tr>\n",
       "    <tr>\n",
       "      <th>195693</th>\n",
       "      <td>Indigo</td>\n",
       "      <td>Chennai</td>\n",
       "      <td>Afternoon</td>\n",
       "      <td>0</td>\n",
       "      <td>Afternoon</td>\n",
       "      <td>Bangalore</td>\n",
       "      <td>Economy</td>\n",
       "      <td>1.08</td>\n",
       "      <td>26</td>\n",
       "    </tr>\n",
       "    <tr>\n",
       "      <th>78151</th>\n",
       "      <td>Air_India</td>\n",
       "      <td>Mumbai</td>\n",
       "      <td>Early_Morning</td>\n",
       "      <td>1</td>\n",
       "      <td>Night</td>\n",
       "      <td>Chennai</td>\n",
       "      <td>Economy</td>\n",
       "      <td>16.58</td>\n",
       "      <td>8</td>\n",
       "    </tr>\n",
       "    <tr>\n",
       "      <th>220245</th>\n",
       "      <td>Air_India</td>\n",
       "      <td>Delhi</td>\n",
       "      <td>Morning</td>\n",
       "      <td>1</td>\n",
       "      <td>Night</td>\n",
       "      <td>Hyderabad</td>\n",
       "      <td>Business</td>\n",
       "      <td>10.92</td>\n",
       "      <td>22</td>\n",
       "    </tr>\n",
       "  </tbody>\n",
       "</table>\n",
       "<p>270125 rows × 9 columns</p>\n",
       "</div>"
      ],
      "text/plain": [
       "          airline source_city departure_time  stops arrival_time  \\\n",
       "275918    Vistara   Hyderabad      Afternoon      1   Late_Night   \n",
       "180402    Vistara   Hyderabad        Morning      1      Evening   \n",
       "165475   GO_FIRST   Hyderabad        Morning      1      Evening   \n",
       "211308  Air_India       Delhi          Night      1        Night   \n",
       "32136   Air_India       Delhi  Early_Morning      1      Evening   \n",
       "...           ...         ...            ...    ...          ...   \n",
       "18772     AirAsia       Delhi  Early_Morning      0      Morning   \n",
       "262327  Air_India     Kolkata        Evening      1      Evening   \n",
       "195693     Indigo     Chennai      Afternoon      0    Afternoon   \n",
       "78151   Air_India      Mumbai  Early_Morning      1        Night   \n",
       "220245  Air_India       Delhi        Morning      1        Night   \n",
       "\n",
       "       destination_city     class  duration  days_left  \n",
       "275918            Delhi  Business     11.25         24  \n",
       "180402          Chennai   Economy     11.42         48  \n",
       "165475           Mumbai   Economy      8.00         49  \n",
       "211308           Mumbai  Business     23.83         43  \n",
       "32136         Hyderabad   Economy     12.83         27  \n",
       "...                 ...       ...       ...        ...  \n",
       "18772         Bangalore   Economy      2.67         43  \n",
       "262327            Delhi  Business     23.50         20  \n",
       "195693        Bangalore   Economy      1.08         26  \n",
       "78151           Chennai   Economy     16.58          8  \n",
       "220245        Hyderabad  Business     10.92         22  \n",
       "\n",
       "[270125 rows x 9 columns]"
      ]
     },
     "execution_count": 827,
     "metadata": {},
     "output_type": "execute_result"
    }
   ],
   "source": [
    "X_train_for_xgb = pd.concat([X_train, X_val])\n",
    "X_train_for_xgb"
   ]
  },
  {
   "cell_type": "code",
   "execution_count": 828,
   "metadata": {
    "execution": {
     "iopub.execute_input": "2023-01-05T23:39:28.550280Z",
     "iopub.status.busy": "2023-01-05T23:39:28.547706Z",
     "iopub.status.idle": "2023-01-05T23:39:29.550086Z",
     "shell.execute_reply": "2023-01-05T23:39:29.549031Z",
     "shell.execute_reply.started": "2023-01-05T23:39:28.550243Z"
    }
   },
   "outputs": [],
   "source": [
    "Original_X_train = X_train\n",
    "X_train=ct.fit_transform(X_train)\n",
    "X_val=ct.transform(X_val)\n",
    "X_test=ct.transform(X_test)\n",
    "X_train_for_xgb = ct.transform(X_train_for_xgb)"
   ]
  },
  {
   "cell_type": "code",
   "execution_count": 829,
   "metadata": {
    "execution": {
     "iopub.execute_input": "2023-01-05T23:39:29.555686Z",
     "iopub.status.busy": "2023-01-05T23:39:29.554640Z",
     "iopub.status.idle": "2023-01-05T23:39:29.565338Z",
     "shell.execute_reply": "2023-01-05T23:39:29.564414Z",
     "shell.execute_reply.started": "2023-01-05T23:39:29.555645Z"
    }
   },
   "outputs": [
    {
     "name": "stdout",
     "output_type": "stream",
     "text": [
      "--------------------------------------------------\n",
      "('cat_encoder', OneHotEncoder(drop='first', handle_unknown='ignore'), ['airline', 'source_city', 'departure_time', 'arrival_time', 'destination_city', 'class'])\n",
      "['airline_Air_India' 'airline_GO_FIRST' 'airline_Indigo'\n",
      " 'airline_SpiceJet' 'airline_Vistara' 'source_city_Chennai'\n",
      " 'source_city_Delhi' 'source_city_Hyderabad' 'source_city_Kolkata'\n",
      " 'source_city_Mumbai' 'departure_time_Early_Morning'\n",
      " 'departure_time_Evening' 'departure_time_Late_Night'\n",
      " 'departure_time_Morning' 'departure_time_Night'\n",
      " 'arrival_time_Early_Morning' 'arrival_time_Evening'\n",
      " 'arrival_time_Late_Night' 'arrival_time_Morning' 'arrival_time_Night'\n",
      " 'destination_city_Chennai' 'destination_city_Delhi'\n",
      " 'destination_city_Hyderabad' 'destination_city_Kolkata'\n",
      " 'destination_city_Mumbai' 'class_Economy']\n",
      "--------------------------------------------------\n",
      "('num_encoder', MinMaxScaler(), ['stops', 'duration', 'days_left'])\n",
      "['stops' 'duration' 'days_left']\n",
      "--------------------------------------------------\n"
     ]
    }
   ],
   "source": [
    "print(\"-\"*50)\n",
    "for i in ct.transformers_:\n",
    "    print(i)\n",
    "    if(i[0]!='remainder'):\n",
    "        print(i[1].get_feature_names_out())   \n",
    "    print(\"-\"*50)"
   ]
  },
  {
   "cell_type": "code",
   "execution_count": 830,
   "metadata": {},
   "outputs": [],
   "source": [
    "Original_y_train = y_train\n",
    "y_train=ct.fit_transform(y_train) #Todo: check if need to scale Y\n",
    "y_val=ct.transform(y_val)\n",
    "y_test=ct.transform(y_test)\n",
    "y_train_for_xgb=ct.transform(y_train_for_xgb)"
   ]
  },
  {
   "cell_type": "code",
   "execution_count": 831,
   "metadata": {
    "execution": {
     "iopub.execute_input": "2023-01-05T23:39:29.567539Z",
     "iopub.status.busy": "2023-01-05T23:39:29.566509Z",
     "iopub.status.idle": "2023-01-05T23:39:29.577888Z",
     "shell.execute_reply": "2023-01-05T23:39:29.576840Z",
     "shell.execute_reply.started": "2023-01-05T23:39:29.567503Z"
    }
   },
   "outputs": [
    {
     "data": {
      "text/plain": [
       "((216100, 29),\n",
       " (216100, 1),\n",
       " (54025, 29),\n",
       " (54025, 1),\n",
       " (30016, 29),\n",
       " (30016, 1),\n",
       " (270125, 1),\n",
       " (270125, 29))"
      ]
     },
     "execution_count": 831,
     "metadata": {},
     "output_type": "execute_result"
    }
   ],
   "source": [
    "X_train.shape,y_train.shape,X_val.shape,y_val.shape,X_test.shape,y_test.shape, y_train_for_xgb.shape, X_train_for_xgb.shape"
   ]
  },
  {
   "cell_type": "code",
   "execution_count": 832,
   "metadata": {
    "execution": {
     "iopub.execute_input": "2023-01-05T23:39:29.580011Z",
     "iopub.status.busy": "2023-01-05T23:39:29.579206Z",
     "iopub.status.idle": "2023-01-05T23:39:29.592671Z",
     "shell.execute_reply": "2023-01-05T23:39:29.591725Z",
     "shell.execute_reply.started": "2023-01-05T23:39:29.579976Z"
    }
   },
   "outputs": [
    {
     "data": {
      "text/plain": [
       "(array([[1.        , 0.        , 0.        , 0.        , 0.        ,\n",
       "         0.        , 1.        , 0.        , 0.        , 0.        ,\n",
       "         0.        , 0.        , 0.        , 1.        , 0.        ,\n",
       "         1.        , 0.        , 0.        , 0.        , 0.        ,\n",
       "         0.        , 0.        , 0.        , 1.        , 0.        ,\n",
       "         1.        , 0.5       , 0.43324937, 0.8125    ]]),\n",
       " array([[0.05520288],\n",
       "        [0.56186849],\n",
       "        [0.04487824],\n",
       "        ...,\n",
       "        [0.49274366],\n",
       "        [0.01802183],\n",
       "        [0.07584334]]))"
      ]
     },
     "execution_count": 832,
     "metadata": {},
     "output_type": "execute_result"
    }
   ],
   "source": [
    "X_test[0].toarray(),y_test#.head(1).values"
   ]
  },
  {
   "cell_type": "markdown",
   "metadata": {},
   "source": [
    "# Tensorflow settings"
   ]
  },
  {
   "cell_type": "code",
   "execution_count": 833,
   "metadata": {
    "execution": {
     "iopub.execute_input": "2023-01-02T23:41:32.563637Z",
     "iopub.status.busy": "2023-01-02T23:41:32.563234Z",
     "iopub.status.idle": "2023-01-02T23:41:32.569277Z",
     "shell.execute_reply": "2023-01-02T23:41:32.567915Z",
     "shell.execute_reply.started": "2023-01-02T23:41:32.563602Z"
    }
   },
   "outputs": [],
   "source": [
    "batch_size=256 # batch size to be fed\n",
    "n=8  # number of hidden layers\n",
    "layer_number = 12 #Todo: add layer but stay with n=8 "
   ]
  },
  {
   "cell_type": "markdown",
   "metadata": {},
   "source": [
    "# Tensorflow data batches"
   ]
  },
  {
   "cell_type": "code",
   "execution_count": 834,
   "metadata": {
    "execution": {
     "iopub.execute_input": "2023-01-02T23:41:32.571121Z",
     "iopub.status.busy": "2023-01-02T23:41:32.570691Z",
     "iopub.status.idle": "2023-01-02T23:41:32.578504Z",
     "shell.execute_reply": "2023-01-02T23:41:32.577467Z",
     "shell.execute_reply.started": "2023-01-02T23:41:32.571079Z"
    }
   },
   "outputs": [],
   "source": [
    "def convert_sparse_matrix_to_sparse_tensor(X):\n",
    "    coo = X.tocoo()\n",
    "    indices = np.mat([coo.row, coo.col]).transpose()\n",
    "    return tf.sparse.reorder(tf.SparseTensor(indices, coo.data, coo.shape))"
   ]
  },
  {
   "cell_type": "code",
   "execution_count": 835,
   "metadata": {},
   "outputs": [
    {
     "data": {
      "text/plain": [
       "scipy.sparse._csr.csr_matrix"
      ]
     },
     "execution_count": 835,
     "metadata": {},
     "output_type": "execute_result"
    }
   ],
   "source": [
    "X_val_saved = X_val\n",
    "type(X_val_saved)"
   ]
  },
  {
   "cell_type": "code",
   "execution_count": 836,
   "metadata": {
    "execution": {
     "iopub.execute_input": "2023-01-02T23:41:32.581022Z",
     "iopub.status.busy": "2023-01-02T23:41:32.580598Z",
     "iopub.status.idle": "2023-01-02T23:41:32.689341Z",
     "shell.execute_reply": "2023-01-02T23:41:32.688314Z",
     "shell.execute_reply.started": "2023-01-02T23:41:32.580988Z"
    }
   },
   "outputs": [],
   "source": [
    "X_train=convert_sparse_matrix_to_sparse_tensor(X_train)\n",
    "X_val=convert_sparse_matrix_to_sparse_tensor(X_val)\n",
    "X_test=convert_sparse_matrix_to_sparse_tensor(X_test)"
   ]
  },
  {
   "cell_type": "code",
   "execution_count": 837,
   "metadata": {
    "execution": {
     "iopub.execute_input": "2023-01-02T23:41:32.691252Z",
     "iopub.status.busy": "2023-01-02T23:41:32.690872Z",
     "iopub.status.idle": "2023-01-02T23:41:32.699752Z",
     "shell.execute_reply": "2023-01-02T23:41:32.698148Z",
     "shell.execute_reply.started": "2023-01-02T23:41:32.691216Z"
    }
   },
   "outputs": [
    {
     "data": {
      "text/plain": [
       "(TensorShape([216100, 29]), TensorShape([54025, 29]), TensorShape([30016, 29]))"
      ]
     },
     "execution_count": 837,
     "metadata": {},
     "output_type": "execute_result"
    }
   ],
   "source": [
    "X_train.shape,X_val.shape,X_test.shape"
   ]
  },
  {
   "cell_type": "code",
   "execution_count": 838,
   "metadata": {
    "execution": {
     "iopub.execute_input": "2023-01-02T23:41:32.702318Z",
     "iopub.status.busy": "2023-01-02T23:41:32.701794Z",
     "iopub.status.idle": "2023-01-02T23:41:33.146264Z",
     "shell.execute_reply": "2023-01-02T23:41:33.145297Z",
     "shell.execute_reply.started": "2023-01-02T23:41:32.702280Z"
    }
   },
   "outputs": [],
   "source": [
    "data_tf_tr=tf.data.Dataset.from_tensor_slices((X_train, y_train))\n",
    "data_tr_batches = data_tf_tr.batch(batch_size).cache().prefetch(tf.data.AUTOTUNE)\n",
    "\n",
    "data_tf_val=tf.data.Dataset.from_tensor_slices((X_val, y_val))\n",
    "data_val_batches = data_tf_val.batch(batch_size).cache().prefetch(tf.data.AUTOTUNE)\n",
    "\n",
    "data_tf_te=tf.data.Dataset.from_tensor_slices((X_test, y_test))\n",
    "data_te_batches = data_tf_te.batch(batch_size).cache().prefetch(tf.data.AUTOTUNE)\n",
    "\n",
    "data_tf_tre=tf.data.Dataset.from_tensor_slices(X_test)\n",
    "data_tre_batches = data_tf_tre.batch(batch_size).cache().prefetch(tf.data.AUTOTUNE)"
   ]
  },
  {
   "cell_type": "code",
   "execution_count": 839,
   "metadata": {
    "execution": {
     "iopub.execute_input": "2023-01-02T23:41:33.156043Z",
     "iopub.status.busy": "2023-01-02T23:41:33.154875Z",
     "iopub.status.idle": "2023-01-02T23:41:33.162888Z",
     "shell.execute_reply": "2023-01-02T23:41:33.161782Z",
     "shell.execute_reply.started": "2023-01-02T23:41:33.156004Z"
    }
   },
   "outputs": [
    {
     "data": {
      "text/plain": [
       "<TensorSliceDataset element_spec=(SparseTensorSpec(TensorShape([29]), tf.float64), TensorSpec(shape=(1,), dtype=tf.float64, name=None))>"
      ]
     },
     "execution_count": 839,
     "metadata": {},
     "output_type": "execute_result"
    }
   ],
   "source": [
    "data_tf_val"
   ]
  },
  {
   "cell_type": "code",
   "execution_count": 840,
   "metadata": {
    "execution": {
     "iopub.execute_input": "2023-01-02T23:41:33.165561Z",
     "iopub.status.busy": "2023-01-02T23:41:33.164540Z",
     "iopub.status.idle": "2023-01-02T23:41:33.173792Z",
     "shell.execute_reply": "2023-01-02T23:41:33.172818Z",
     "shell.execute_reply.started": "2023-01-02T23:41:33.165412Z"
    }
   },
   "outputs": [
    {
     "data": {
      "text/plain": [
       "<PrefetchDataset element_spec=(SparseTensorSpec(TensorShape([None, 29]), tf.float64), TensorSpec(shape=(None, 1), dtype=tf.float64, name=None))>"
      ]
     },
     "execution_count": 840,
     "metadata": {},
     "output_type": "execute_result"
    }
   ],
   "source": [
    "data_val_batches"
   ]
  },
  {
   "cell_type": "code",
   "execution_count": 841,
   "metadata": {
    "execution": {
     "iopub.execute_input": "2023-01-02T23:41:33.176065Z",
     "iopub.status.busy": "2023-01-02T23:41:33.175076Z",
     "iopub.status.idle": "2023-01-02T23:41:33.183232Z",
     "shell.execute_reply": "2023-01-02T23:41:33.182137Z",
     "shell.execute_reply.started": "2023-01-02T23:41:33.176027Z"
    }
   },
   "outputs": [
    {
     "data": {
      "text/plain": [
       "256"
      ]
     },
     "execution_count": 841,
     "metadata": {},
     "output_type": "execute_result"
    }
   ],
   "source": [
    "batch_size"
   ]
  },
  {
   "cell_type": "markdown",
   "metadata": {},
   "source": [
    "# Model fitting"
   ]
  },
  {
   "cell_type": "code",
   "execution_count": 842,
   "metadata": {
    "execution": {
     "iopub.execute_input": "2023-01-02T23:41:33.185548Z",
     "iopub.status.busy": "2023-01-02T23:41:33.184617Z",
     "iopub.status.idle": "2023-01-02T23:41:33.193339Z",
     "shell.execute_reply": "2023-01-02T23:41:33.192417Z",
     "shell.execute_reply.started": "2023-01-02T23:41:33.185513Z"
    }
   },
   "outputs": [],
   "source": [
    "from tensorflow.keras.models import Sequential\n",
    "from tensorflow.keras.layers import Dense,Dropout,Input\n",
    "from tensorflow.keras.callbacks import EarlyStopping\n",
    "\n",
    "e=EarlyStopping(patience=5,restore_best_weights=True,verbose=1) # we use it to prevent overfitting "
   ]
  },
  {
   "cell_type": "code",
   "execution_count": 843,
   "metadata": {
    "execution": {
     "iopub.execute_input": "2023-01-02T23:41:54.947802Z",
     "iopub.status.busy": "2023-01-02T23:41:54.947415Z",
     "iopub.status.idle": "2023-01-02T23:41:55.037985Z",
     "shell.execute_reply": "2023-01-02T23:41:55.037093Z",
     "shell.execute_reply.started": "2023-01-02T23:41:54.947748Z"
    }
   },
   "outputs": [],
   "source": [
    "# model=Sequential()\n",
    "\n",
    "# #Input Layer\n",
    "# model.add(Input(shape=(X_train.shape[1],), sparse=True))\n",
    "\n",
    "# #Hidden Layer\n",
    "# for counter in range(1,n+1):\n",
    "#     model.add(Dense(n*X_train.shape[1],activation='relu'))\n",
    "#     if(counter%6==0):\n",
    "#         model.add(Dropout(0.25, seed=42))\n",
    "\n",
    "# model.add(Dense(n/2*X_train.shape[1],activation='relu'))\n",
    "# model.add(Dense(n/4*X_train.shape[1],activation='relu'))\n",
    "# #Output Layer\n",
    "# model.add(Dense(1))\n",
    "\n",
    "# model.compile(loss='mean_squared_error',\n",
    "#               optimizer='adam',\n",
    "#               metrics = ['mean_absolute_error',tf.keras.metrics.RootMeanSquaredError()]) ####best"
   ]
  },
  {
   "cell_type": "code",
   "execution_count": 844,
   "metadata": {},
   "outputs": [],
   "source": [
    "# model=Sequential()\n",
    "\n",
    "# #Input Layer\n",
    "# model.add(Input(shape=(X_train.shape[1],), sparse=True))\n",
    "\n",
    "# #Hidden Layer\n",
    "# for counter in range(1,layer_number+1):\n",
    "#     model.add(Dense(n*X_train.shape[1],activation='relu'))\n",
    "#     if(counter%8==0):\n",
    "#         model.add(Dropout(0.25, seed=42))\n",
    "\n",
    "# #Output Layer\n",
    "# model.add(Dense(1))\n",
    "\n",
    "# model.compile(loss='mean_squared_error',\n",
    "#               optimizer='adam',\n",
    "#               metrics = ['mean_absolute_error',tf.keras.metrics.RootMeanSquaredError()])\n",
    "\n",
    "# ##\n",
    "# #R2 Score : 0.9754208834061976\n",
    "# ##"
   ]
  },
  {
   "cell_type": "code",
   "execution_count": 845,
   "metadata": {},
   "outputs": [],
   "source": [
    "# layer_number=16\n",
    "\n",
    "# model=Sequential()\n",
    "\n",
    "# #Input Layer\n",
    "# model.add(Input(shape=(X_train.shape[1],), sparse=True))\n",
    "\n",
    "# #Hidden Layer\n",
    "# for counter in range(1,layer_number+1):\n",
    "#     model.add(Dense(n*X_train.shape[1],activation='relu'))\n",
    "#     if(counter%5==0):\n",
    "#         model.add(Dropout(0.18, seed=42))\n",
    "\n",
    "# #Output Layer\n",
    "# model.add(Dense(1))\n",
    "\n",
    "# model.compile(loss='mean_squared_error',\n",
    "#               optimizer='adam',\n",
    "#               metrics = ['mean_absolute_error',tf.keras.metrics.RootMeanSquaredError()])\n",
    "\n",
    "# ##\n",
    "# #R2 Score of DT with NN 0.9414\n",
    "# #R2 Score of XGB with NN: 0.9692\n",
    "# #R2 Score : 0.9652640678775019\n",
    "# ##"
   ]
  },
  {
   "cell_type": "code",
   "execution_count": 846,
   "metadata": {},
   "outputs": [],
   "source": [
    "layer_number=8\n",
    "\n",
    "model=Sequential()\n",
    "\n",
    "#Input Layer\n",
    "model.add(Input(shape=(X_train.shape[1],), sparse=True))\n",
    "\n",
    "#Hidden Layer\n",
    "for counter in range(1,layer_number+1):\n",
    "    model.add(Dense(n*X_train.shape[1],activation='relu'))\n",
    "    if(counter%5==0):\n",
    "        model.add(Dropout(0.25, seed=42))\n",
    "\n",
    "model.add(Dense(n/2*X_train.shape[1],activation='relu'))\n",
    "model.add(Dense(n/4*X_train.shape[1],activation='relu'))\n",
    "# model.add(Dense(n/8*X_train.shape[1],activation='relu'))\n",
    "# model.add(Dense(X_train.shape[1],activation='relu'))\n",
    "\n",
    "#Output Layer\n",
    "model.add(Dense(1))\n",
    "\n",
    "model.compile(loss='mean_squared_error',\n",
    "              optimizer='adam',\n",
    "              metrics = ['mean_absolute_error',tf.keras.metrics.RootMeanSquaredError()])\n",
    "\n",
    "##\n",
    "#R2 Score : 0.9789576557420121\n",
    "#R2 Score of DT with NN 0.9619908430114847\n",
    "#R2 Score of XGB with NN: 0.978975657449198\n",
    "#Epoch 62\n",
    "####Best!!!!\n",
    "##"
   ]
  },
  {
   "cell_type": "code",
   "execution_count": 847,
   "metadata": {},
   "outputs": [],
   "source": [
    "# layer_number=10\n",
    "\n",
    "# model=Sequential()\n",
    "\n",
    "# #Input Layer\n",
    "# model.add(Input(shape=(X_train.shape[1],), sparse=True))\n",
    "\n",
    "# #Hidden Layer\n",
    "# for counter in range(1,layer_number+1):\n",
    "#     model.add(Dense(n*X_train.shape[1],activation='relu'))\n",
    "#     if(counter%3==0):\n",
    "#         model.add(Dropout(0.3, seed=42))\n",
    "\n",
    "# model.add(Dense(n/2*X_train.shape[1],activation='relu'))\n",
    "# model.add(Dense(n/4*X_train.shape[1],activation='relu'))\n",
    "# # model.add(Dense(n/8*X_train.shape[1],activation='relu'))\n",
    "# # model.add(Dense(X_train.shape[1],activation='relu'))\n",
    "\n",
    "# #Output Layer\n",
    "# model.add(Dense(1))\n",
    "\n",
    "# model.compile(loss='mean_squared_error',\n",
    "#               optimizer='adam',\n",
    "#               metrics = ['mean_absolute_error',tf.keras.metrics.RootMeanSquaredError()])\n",
    "\n",
    "# ##\n",
    "#not so good stop at 10 epoch\n",
    "# ##"
   ]
  },
  {
   "cell_type": "code",
   "execution_count": 848,
   "metadata": {
    "execution": {
     "iopub.execute_input": "2023-01-02T23:41:56.476220Z",
     "iopub.status.busy": "2023-01-02T23:41:56.475111Z",
     "iopub.status.idle": "2023-01-02T23:41:56.485655Z",
     "shell.execute_reply": "2023-01-02T23:41:56.484171Z",
     "shell.execute_reply.started": "2023-01-02T23:41:56.476169Z"
    }
   },
   "outputs": [
    {
     "name": "stdout",
     "output_type": "stream",
     "text": [
      "Model: \"sequential_8\"\n",
      "_________________________________________________________________\n",
      " Layer (type)                Output Shape              Param #   \n",
      "=================================================================\n",
      " dense_88 (Dense)            (None, 232)               6960      \n",
      "                                                                 \n",
      " dense_89 (Dense)            (None, 232)               54056     \n",
      "                                                                 \n",
      " dense_90 (Dense)            (None, 232)               54056     \n",
      "                                                                 \n",
      " dense_91 (Dense)            (None, 232)               54056     \n",
      "                                                                 \n",
      " dense_92 (Dense)            (None, 232)               54056     \n",
      "                                                                 \n",
      " dropout_8 (Dropout)         (None, 232)               0         \n",
      "                                                                 \n",
      " dense_93 (Dense)            (None, 232)               54056     \n",
      "                                                                 \n",
      " dense_94 (Dense)            (None, 232)               54056     \n",
      "                                                                 \n",
      " dense_95 (Dense)            (None, 232)               54056     \n",
      "                                                                 \n",
      " dense_96 (Dense)            (None, 116)               27028     \n",
      "                                                                 \n",
      " dense_97 (Dense)            (None, 58)                6786      \n",
      "                                                                 \n",
      " dense_98 (Dense)            (None, 1)                 59        \n",
      "                                                                 \n",
      "=================================================================\n",
      "Total params: 419,225\n",
      "Trainable params: 419,225\n",
      "Non-trainable params: 0\n",
      "_________________________________________________________________\n"
     ]
    }
   ],
   "source": [
    "model.summary()"
   ]
  },
  {
   "cell_type": "code",
   "execution_count": 849,
   "metadata": {},
   "outputs": [
    {
     "data": {
      "text/plain": [
       "tensorflow.python.framework.sparse_tensor.SparseTensor"
      ]
     },
     "execution_count": 849,
     "metadata": {},
     "output_type": "execute_result"
    }
   ],
   "source": [
    "type(X_train)"
   ]
  },
  {
   "cell_type": "code",
   "execution_count": null,
   "metadata": {},
   "outputs": [],
   "source": []
  },
  {
   "cell_type": "code",
   "execution_count": 850,
   "metadata": {
    "execution": {
     "iopub.execute_input": "2023-01-02T23:41:57.671344Z",
     "iopub.status.busy": "2023-01-02T23:41:57.670986Z",
     "iopub.status.idle": "2023-01-02T23:41:57.681274Z",
     "shell.execute_reply": "2023-01-02T23:41:57.680217Z",
     "shell.execute_reply.started": "2023-01-02T23:41:57.671313Z"
    }
   },
   "outputs": [
    {
     "name": "stdout",
     "output_type": "stream",
     "text": [
      "Input size: 29\n",
      "Hidden size: 232 -> 1\n",
      "Hidden size: 232 -> 2\n",
      "Hidden size: 232 -> 3\n",
      "Hidden size: 232 -> 4\n",
      "Hidden size: 232 -> 5\n",
      "Hidden size: 232 -> 6\n",
      "Hidden size: 232 -> 7\n",
      "Hidden size: 232 -> 8\n"
     ]
    }
   ],
   "source": [
    "input_size = model.layers[0].input_shape[1]\n",
    "print(f\"Input size: {input_size}\")\n",
    "for i in range (1, n+1):\n",
    "    hidden_size = model.layers[i].input_shape[1]\n",
    "    print(f\"Hidden size: {hidden_size} -> {i}\")"
   ]
  },
  {
   "cell_type": "code",
   "execution_count": 851,
   "metadata": {
    "execution": {
     "iopub.execute_input": "2023-01-02T23:42:00.624128Z",
     "iopub.status.busy": "2023-01-02T23:42:00.623185Z",
     "iopub.status.idle": "2023-01-02T23:42:00.631093Z",
     "shell.execute_reply": "2023-01-02T23:42:00.629967Z",
     "shell.execute_reply.started": "2023-01-02T23:42:00.624081Z"
    }
   },
   "outputs": [
    {
     "data": {
      "text/plain": [
       "29"
      ]
     },
     "execution_count": 851,
     "metadata": {},
     "output_type": "execute_result"
    }
   ],
   "source": [
    "X_train.shape[1]"
   ]
  },
  {
   "cell_type": "code",
   "execution_count": 852,
   "metadata": {
    "execution": {
     "iopub.execute_input": "2023-01-02T23:42:25.380163Z",
     "iopub.status.busy": "2023-01-02T23:42:25.379797Z",
     "iopub.status.idle": "2023-01-02T23:45:23.397201Z",
     "shell.execute_reply": "2023-01-02T23:45:23.396434Z",
     "shell.execute_reply.started": "2023-01-02T23:42:25.380131Z"
    }
   },
   "outputs": [
    {
     "name": "stdout",
     "output_type": "stream",
     "text": [
      "Epoch 1/200\n",
      "845/845 [==============================] - 39s 43ms/step - loss: 0.0025 - mean_absolute_error: 0.0289 - root_mean_squared_error: 0.0498 - val_loss: 0.0018 - val_mean_absolute_error: 0.0246 - val_root_mean_squared_error: 0.0419\n",
      "Epoch 2/200\n",
      "845/845 [==============================] - 80s 95ms/step - loss: 0.0014 - mean_absolute_error: 0.0226 - root_mean_squared_error: 0.0380 - val_loss: 0.0013 - val_mean_absolute_error: 0.0219 - val_root_mean_squared_error: 0.0366\n",
      "Epoch 3/200\n",
      "845/845 [==============================] - 62s 74ms/step - loss: 0.0014 - mean_absolute_error: 0.0219 - root_mean_squared_error: 0.0371 - val_loss: 0.0013 - val_mean_absolute_error: 0.0209 - val_root_mean_squared_error: 0.0361\n",
      "Epoch 4/200\n",
      "845/845 [==============================] - 71s 84ms/step - loss: 0.0013 - mean_absolute_error: 0.0211 - root_mean_squared_error: 0.0362 - val_loss: 0.0013 - val_mean_absolute_error: 0.0205 - val_root_mean_squared_error: 0.0358\n",
      "Epoch 5/200\n",
      "845/845 [==============================] - 57s 67ms/step - loss: 0.0013 - mean_absolute_error: 0.0207 - root_mean_squared_error: 0.0357 - val_loss: 0.0012 - val_mean_absolute_error: 0.0199 - val_root_mean_squared_error: 0.0354\n",
      "Epoch 6/200\n",
      "845/845 [==============================] - 55s 65ms/step - loss: 0.0013 - mean_absolute_error: 0.0204 - root_mean_squared_error: 0.0355 - val_loss: 0.0013 - val_mean_absolute_error: 0.0201 - val_root_mean_squared_error: 0.0354\n",
      "Epoch 7/200\n",
      "845/845 [==============================] - 62s 74ms/step - loss: 0.0012 - mean_absolute_error: 0.0200 - root_mean_squared_error: 0.0350 - val_loss: 0.0012 - val_mean_absolute_error: 0.0197 - val_root_mean_squared_error: 0.0352\n",
      "Epoch 8/200\n",
      "845/845 [==============================] - 63s 75ms/step - loss: 0.0012 - mean_absolute_error: 0.0196 - root_mean_squared_error: 0.0346 - val_loss: 0.0012 - val_mean_absolute_error: 0.0197 - val_root_mean_squared_error: 0.0350\n",
      "Epoch 9/200\n",
      "845/845 [==============================] - 67s 79ms/step - loss: 0.0012 - mean_absolute_error: 0.0198 - root_mean_squared_error: 0.0348 - val_loss: 0.0012 - val_mean_absolute_error: 0.0192 - val_root_mean_squared_error: 0.0347\n",
      "Epoch 10/200\n",
      "845/845 [==============================] - 56s 66ms/step - loss: 0.0012 - mean_absolute_error: 0.0193 - root_mean_squared_error: 0.0342 - val_loss: 0.0012 - val_mean_absolute_error: 0.0193 - val_root_mean_squared_error: 0.0347\n",
      "Epoch 11/200\n",
      "845/845 [==============================] - 66s 78ms/step - loss: 0.0012 - mean_absolute_error: 0.0193 - root_mean_squared_error: 0.0342 - val_loss: 0.0012 - val_mean_absolute_error: 0.0187 - val_root_mean_squared_error: 0.0344\n",
      "Epoch 12/200\n",
      "845/845 [==============================] - 71s 84ms/step - loss: 0.0011 - mean_absolute_error: 0.0188 - root_mean_squared_error: 0.0337 - val_loss: 0.0012 - val_mean_absolute_error: 0.0186 - val_root_mean_squared_error: 0.0342\n",
      "Epoch 13/200\n",
      "845/845 [==============================] - 65s 77ms/step - loss: 0.0011 - mean_absolute_error: 0.0187 - root_mean_squared_error: 0.0336 - val_loss: 0.0012 - val_mean_absolute_error: 0.0181 - val_root_mean_squared_error: 0.0342\n",
      "Epoch 14/200\n",
      "845/845 [==============================] - 65s 77ms/step - loss: 0.0011 - mean_absolute_error: 0.0186 - root_mean_squared_error: 0.0334 - val_loss: 0.0012 - val_mean_absolute_error: 0.0184 - val_root_mean_squared_error: 0.0341\n",
      "Epoch 15/200\n",
      "845/845 [==============================] - 70s 83ms/step - loss: 0.0011 - mean_absolute_error: 0.0189 - root_mean_squared_error: 0.0337 - val_loss: 0.0012 - val_mean_absolute_error: 0.0182 - val_root_mean_squared_error: 0.0340\n",
      "Epoch 16/200\n",
      "845/845 [==============================] - 64s 76ms/step - loss: 0.0011 - mean_absolute_error: 0.0181 - root_mean_squared_error: 0.0328 - val_loss: 0.0011 - val_mean_absolute_error: 0.0178 - val_root_mean_squared_error: 0.0336\n",
      "Epoch 17/200\n",
      "845/845 [==============================] - 60s 71ms/step - loss: 0.0011 - mean_absolute_error: 0.0181 - root_mean_squared_error: 0.0327 - val_loss: 0.0011 - val_mean_absolute_error: 0.0177 - val_root_mean_squared_error: 0.0334\n",
      "Epoch 18/200\n",
      "845/845 [==============================] - 62s 73ms/step - loss: 0.0011 - mean_absolute_error: 0.0178 - root_mean_squared_error: 0.0324 - val_loss: 0.0011 - val_mean_absolute_error: 0.0178 - val_root_mean_squared_error: 0.0335\n",
      "Epoch 19/200\n",
      "845/845 [==============================] - 55s 65ms/step - loss: 0.0010 - mean_absolute_error: 0.0177 - root_mean_squared_error: 0.0322 - val_loss: 0.0011 - val_mean_absolute_error: 0.0173 - val_root_mean_squared_error: 0.0329\n",
      "Epoch 20/200\n",
      "845/845 [==============================] - 66s 79ms/step - loss: 0.0011 - mean_absolute_error: 0.0180 - root_mean_squared_error: 0.0326 - val_loss: 0.0011 - val_mean_absolute_error: 0.0173 - val_root_mean_squared_error: 0.0329\n",
      "Epoch 21/200\n",
      "845/845 [==============================] - 62s 74ms/step - loss: 0.0010 - mean_absolute_error: 0.0174 - root_mean_squared_error: 0.0318 - val_loss: 0.0011 - val_mean_absolute_error: 0.0171 - val_root_mean_squared_error: 0.0327\n",
      "Epoch 22/200\n",
      "845/845 [==============================] - 64s 75ms/step - loss: 9.9711e-04 - mean_absolute_error: 0.0172 - root_mean_squared_error: 0.0316 - val_loss: 0.0011 - val_mean_absolute_error: 0.0170 - val_root_mean_squared_error: 0.0327\n",
      "Epoch 23/200\n",
      "845/845 [==============================] - 65s 76ms/step - loss: 9.8594e-04 - mean_absolute_error: 0.0172 - root_mean_squared_error: 0.0314 - val_loss: 0.0011 - val_mean_absolute_error: 0.0172 - val_root_mean_squared_error: 0.0328\n",
      "Epoch 24/200\n",
      "845/845 [==============================] - 66s 78ms/step - loss: 9.7499e-04 - mean_absolute_error: 0.0170 - root_mean_squared_error: 0.0312 - val_loss: 0.0011 - val_mean_absolute_error: 0.0172 - val_root_mean_squared_error: 0.0330\n",
      "Epoch 25/200\n",
      "845/845 [==============================] - 70s 82ms/step - loss: 9.6105e-04 - mean_absolute_error: 0.0169 - root_mean_squared_error: 0.0310 - val_loss: 0.0011 - val_mean_absolute_error: 0.0169 - val_root_mean_squared_error: 0.0325\n",
      "Epoch 26/200\n",
      "845/845 [==============================] - 60s 70ms/step - loss: 9.7859e-04 - mean_absolute_error: 0.0172 - root_mean_squared_error: 0.0313 - val_loss: 0.0010 - val_mean_absolute_error: 0.0172 - val_root_mean_squared_error: 0.0324\n",
      "Epoch 27/200\n",
      "845/845 [==============================] - 62s 73ms/step - loss: 9.3285e-04 - mean_absolute_error: 0.0166 - root_mean_squared_error: 0.0305 - val_loss: 0.0010 - val_mean_absolute_error: 0.0167 - val_root_mean_squared_error: 0.0321\n",
      "Epoch 28/200\n",
      "845/845 [==============================] - 73s 86ms/step - loss: 9.2524e-04 - mean_absolute_error: 0.0165 - root_mean_squared_error: 0.0304 - val_loss: 0.0010 - val_mean_absolute_error: 0.0167 - val_root_mean_squared_error: 0.0321\n",
      "Epoch 29/200\n",
      "845/845 [==============================] - 58s 68ms/step - loss: 9.3380e-04 - mean_absolute_error: 0.0166 - root_mean_squared_error: 0.0306 - val_loss: 0.0010 - val_mean_absolute_error: 0.0169 - val_root_mean_squared_error: 0.0322\n",
      "Epoch 30/200\n",
      "845/845 [==============================] - 59s 70ms/step - loss: 9.3034e-04 - mean_absolute_error: 0.0165 - root_mean_squared_error: 0.0305 - val_loss: 0.0010 - val_mean_absolute_error: 0.0171 - val_root_mean_squared_error: 0.0321\n",
      "Epoch 31/200\n",
      "845/845 [==============================] - 57s 67ms/step - loss: 8.9338e-04 - mean_absolute_error: 0.0162 - root_mean_squared_error: 0.0299 - val_loss: 9.8904e-04 - val_mean_absolute_error: 0.0165 - val_root_mean_squared_error: 0.0314\n",
      "Epoch 32/200\n",
      "845/845 [==============================] - 62s 74ms/step - loss: 8.7374e-04 - mean_absolute_error: 0.0159 - root_mean_squared_error: 0.0296 - val_loss: 9.8992e-04 - val_mean_absolute_error: 0.0168 - val_root_mean_squared_error: 0.0315\n",
      "Epoch 33/200\n",
      "845/845 [==============================] - 61s 72ms/step - loss: 8.7441e-04 - mean_absolute_error: 0.0159 - root_mean_squared_error: 0.0296 - val_loss: 0.0010 - val_mean_absolute_error: 0.0168 - val_root_mean_squared_error: 0.0320\n",
      "Epoch 34/200\n",
      "845/845 [==============================] - 60s 71ms/step - loss: 8.7154e-04 - mean_absolute_error: 0.0159 - root_mean_squared_error: 0.0295 - val_loss: 9.9162e-04 - val_mean_absolute_error: 0.0165 - val_root_mean_squared_error: 0.0315\n"
     ]
    },
    {
     "name": "stdout",
     "output_type": "stream",
     "text": [
      "Epoch 35/200\n",
      "845/845 [==============================] - 64s 76ms/step - loss: 8.6201e-04 - mean_absolute_error: 0.0158 - root_mean_squared_error: 0.0294 - val_loss: 9.9944e-04 - val_mean_absolute_error: 0.0165 - val_root_mean_squared_error: 0.0316\n",
      "Epoch 36/200\n",
      "845/845 [==============================] - 74s 88ms/step - loss: 8.5862e-04 - mean_absolute_error: 0.0157 - root_mean_squared_error: 0.0293 - val_loss: 9.6648e-04 - val_mean_absolute_error: 0.0162 - val_root_mean_squared_error: 0.0311\n",
      "Epoch 37/200\n",
      "845/845 [==============================] - 70s 83ms/step - loss: 8.3979e-04 - mean_absolute_error: 0.0155 - root_mean_squared_error: 0.0290 - val_loss: 9.4480e-04 - val_mean_absolute_error: 0.0161 - val_root_mean_squared_error: 0.0307\n",
      "Epoch 38/200\n",
      "845/845 [==============================] - 73s 86ms/step - loss: 8.4374e-04 - mean_absolute_error: 0.0156 - root_mean_squared_error: 0.0290 - val_loss: 9.5170e-04 - val_mean_absolute_error: 0.0161 - val_root_mean_squared_error: 0.0308\n",
      "Epoch 39/200\n",
      "845/845 [==============================] - 59s 70ms/step - loss: 8.2398e-04 - mean_absolute_error: 0.0153 - root_mean_squared_error: 0.0287 - val_loss: 9.7478e-04 - val_mean_absolute_error: 0.0163 - val_root_mean_squared_error: 0.0312\n",
      "Epoch 40/200\n",
      "845/845 [==============================] - 66s 78ms/step - loss: 8.2300e-04 - mean_absolute_error: 0.0154 - root_mean_squared_error: 0.0287 - val_loss: 9.4614e-04 - val_mean_absolute_error: 0.0162 - val_root_mean_squared_error: 0.0308\n",
      "Epoch 41/200\n",
      "845/845 [==============================] - 60s 72ms/step - loss: 8.0437e-04 - mean_absolute_error: 0.0151 - root_mean_squared_error: 0.0284 - val_loss: 9.2290e-04 - val_mean_absolute_error: 0.0159 - val_root_mean_squared_error: 0.0304\n",
      "Epoch 42/200\n",
      "845/845 [==============================] - 67s 79ms/step - loss: 7.9963e-04 - mean_absolute_error: 0.0150 - root_mean_squared_error: 0.0283 - val_loss: 9.2872e-04 - val_mean_absolute_error: 0.0160 - val_root_mean_squared_error: 0.0305\n",
      "Epoch 43/200\n",
      "845/845 [==============================] - 75s 89ms/step - loss: 7.8530e-04 - mean_absolute_error: 0.0149 - root_mean_squared_error: 0.0280 - val_loss: 9.2635e-04 - val_mean_absolute_error: 0.0158 - val_root_mean_squared_error: 0.0304\n",
      "Epoch 44/200\n",
      "845/845 [==============================] - 65s 77ms/step - loss: 8.0874e-04 - mean_absolute_error: 0.0153 - root_mean_squared_error: 0.0284 - val_loss: 9.2011e-04 - val_mean_absolute_error: 0.0160 - val_root_mean_squared_error: 0.0303\n",
      "Epoch 45/200\n",
      "845/845 [==============================] - 75s 89ms/step - loss: 8.1803e-04 - mean_absolute_error: 0.0152 - root_mean_squared_error: 0.0286 - val_loss: 9.7409e-04 - val_mean_absolute_error: 0.0165 - val_root_mean_squared_error: 0.0312\n",
      "Epoch 46/200\n",
      "845/845 [==============================] - 66s 78ms/step - loss: 8.0269e-04 - mean_absolute_error: 0.0151 - root_mean_squared_error: 0.0283 - val_loss: 8.8167e-04 - val_mean_absolute_error: 0.0154 - val_root_mean_squared_error: 0.0297\n",
      "Epoch 47/200\n",
      "845/845 [==============================] - 78s 92ms/step - loss: 7.7442e-04 - mean_absolute_error: 0.0148 - root_mean_squared_error: 0.0278 - val_loss: 9.0891e-04 - val_mean_absolute_error: 0.0155 - val_root_mean_squared_error: 0.0301\n",
      "Epoch 48/200\n",
      "845/845 [==============================] - 71s 84ms/step - loss: 7.5080e-04 - mean_absolute_error: 0.0145 - root_mean_squared_error: 0.0274 - val_loss: 8.9369e-04 - val_mean_absolute_error: 0.0155 - val_root_mean_squared_error: 0.0299\n",
      "Epoch 49/200\n",
      "845/845 [==============================] - 73s 87ms/step - loss: 8.0854e-04 - mean_absolute_error: 0.0153 - root_mean_squared_error: 0.0284 - val_loss: 9.3217e-04 - val_mean_absolute_error: 0.0163 - val_root_mean_squared_error: 0.0305\n",
      "Epoch 50/200\n",
      "845/845 [==============================] - 71s 84ms/step - loss: 7.7922e-04 - mean_absolute_error: 0.0150 - root_mean_squared_error: 0.0279 - val_loss: 8.9642e-04 - val_mean_absolute_error: 0.0156 - val_root_mean_squared_error: 0.0299\n",
      "Epoch 51/200\n",
      "844/845 [============================>.] - ETA: 0s - loss: 7.4525e-04 - mean_absolute_error: 0.0145 - root_mean_squared_error: 0.0273Restoring model weights from the end of the best epoch: 46.\n",
      "845/845 [==============================] - 75s 88ms/step - loss: 7.4525e-04 - mean_absolute_error: 0.0145 - root_mean_squared_error: 0.0273 - val_loss: 8.9730e-04 - val_mean_absolute_error: 0.0156 - val_root_mean_squared_error: 0.0300\n",
      "Epoch 51: early stopping\n",
      "Wall time: 55min 31s\n"
     ]
    }
   ],
   "source": [
    "%%time\n",
    "history=model.fit(data_tr_batches,epochs=200,callbacks=[e],validation_data=data_val_batches,verbose=1)"
   ]
  },
  {
   "cell_type": "code",
   "execution_count": 853,
   "metadata": {
    "execution": {
     "iopub.execute_input": "2023-01-02T22:28:10.716559Z",
     "iopub.status.busy": "2023-01-02T22:28:10.715833Z",
     "iopub.status.idle": "2023-01-02T22:28:12.249518Z",
     "shell.execute_reply": "2023-01-02T22:28:12.248623Z",
     "shell.execute_reply.started": "2023-01-02T22:28:10.716520Z"
    }
   },
   "outputs": [
    {
     "data": {
      "text/plain": [
       "<AxesSubplot:>"
      ]
     },
     "execution_count": 853,
     "metadata": {},
     "output_type": "execute_result"
    },
    {
     "data": {
      "image/png": "[encoded data removed]",
      "text/plain": [
       "<Figure size 800x800 with 1 Axes>"
      ]
     },
     "metadata": {},
     "output_type": "display_data"
    }
   ],
   "source": [
    "d1=pd.DataFrame(history.history)\n",
    "d1.plot(figsize=(8,8))"
   ]
  },
  {
   "cell_type": "code",
   "execution_count": 854,
   "metadata": {},
   "outputs": [
    {
     "data": {
      "text/plain": [
       "<keras.engine.sequential.Sequential at 0x1689a509c40>"
      ]
     },
     "execution_count": 854,
     "metadata": {},
     "output_type": "execute_result"
    }
   ],
   "source": [
    "model.save('neural_network.h5')\n",
    "model"
   ]
  },
  {
   "cell_type": "markdown",
   "metadata": {},
   "source": [
    "## Create xgboost model that get the one before last layer from the NN"
   ]
  },
  {
   "cell_type": "code",
   "execution_count": 855,
   "metadata": {},
   "outputs": [
    {
     "name": "stdout",
     "output_type": "stream",
     "text": [
      "6754/6754 [==============================] - 88s 13ms/step\n",
      "1689/1689 [==============================] - 17s 10ms/step\n"
     ]
    },
    {
     "data": {
      "text/plain": [
       "((216100, 58), (54025, 58))"
      ]
     },
     "execution_count": 855,
     "metadata": {},
     "output_type": "execute_result"
    }
   ],
   "source": [
    "# Load the trained model and extract the intermediate outputs of the layers\n",
    "nn_model = tf.keras.models.load_model('neural_network.h5')\n",
    "intermediate_layer_model = tf.keras.Model(inputs=nn_model.input, outputs=nn_model.layers[-2].output)\n",
    "GB_X_train = intermediate_layer_model.predict(X_train)\n",
    "GB_X_val = intermediate_layer_model.predict(X_val)\n",
    "nn_model.layers[-2].output\n",
    "GB_X_train.shape, GB_X_val.shape"
   ]
  },
  {
   "cell_type": "code",
   "execution_count": 856,
   "metadata": {},
   "outputs": [
    {
     "data": {
      "text/plain": [
       "(numpy.ndarray, 0.21074638)"
      ]
     },
     "execution_count": 856,
     "metadata": {},
     "output_type": "execute_result"
    }
   ],
   "source": [
    "type(GB_X_train), max(GB_X_train[2])  "
   ]
  },
  {
   "cell_type": "code",
   "execution_count": 857,
   "metadata": {},
   "outputs": [
    {
     "data": {
      "text/plain": [
       "(270125, 58)"
      ]
     },
     "execution_count": 857,
     "metadata": {},
     "output_type": "execute_result"
    }
   ],
   "source": [
    "GB_X_train = np.concatenate((GB_X_train, GB_X_val))\n",
    "GB_X_train.shape"
   ]
  },
  {
   "cell_type": "code",
   "execution_count": 858,
   "metadata": {},
   "outputs": [
    {
     "data": {
      "text/plain": [
       "(270125, 1)"
      ]
     },
     "execution_count": 858,
     "metadata": {},
     "output_type": "execute_result"
    }
   ],
   "source": [
    "y_train_for_xgb.shape"
   ]
  },
  {
   "cell_type": "code",
   "execution_count": 859,
   "metadata": {},
   "outputs": [
    {
     "data": {
      "text/plain": [
       "XGBRegressor(base_score=0.5, booster='gbtree', callbacks=None,\n",
       "             colsample_bylevel=1, colsample_bynode=1, colsample_bytree=1,\n",
       "             early_stopping_rounds=None, enable_categorical=False,\n",
       "             eval_metric=None, feature_types=None, gamma=0, gpu_id=-1,\n",
       "             grow_policy='depthwise', importance_type=None,\n",
       "             interaction_constraints='', learning_rate=0.1, max_bin=256,\n",
       "             max_cat_threshold=64, max_cat_to_onehot=4, max_delta_step=0,\n",
       "             max_depth=8, max_leaves=0, min_child_weight=1, missing=nan,\n",
       "             monotone_constraints='()', n_estimators=50, n_jobs=0,\n",
       "             num_parallel_tree=1, predictor='auto', random_state=0, ...)"
      ]
     },
     "execution_count": 859,
     "metadata": {},
     "output_type": "execute_result"
    }
   ],
   "source": [
    "# Create the XGBoost regressor\n",
    "GB_regressor = xgb.XGBRegressor(objective = 'reg:squarederror', learning_rate = 0.1, max_depth = 8, n_estimators = 50)\n",
    "\n",
    "# Fit the regressor to the training data\n",
    "GB_regressor.fit(GB_X_train, y_train_for_xgb)"
   ]
  },
  {
   "cell_type": "code",
   "execution_count": 860,
   "metadata": {},
   "outputs": [],
   "source": [
    "# # Make predictions on the validation set\n",
    "# GB_y_pred_val = GB_regressor.predict(GB_X_val)\n",
    "\n",
    "# # Calculate the mean squared error\n",
    "# mse_GB = mean_squared_error(y_val, GB_y_pred_val)\n",
    "# r2_GB = r2_score(y_val,GB_y_pred_val)\n",
    "# print('----XGB Regression - validation----')\n",
    "# print(f'MSE of XGB with XGB: {mse_GB}')\n",
    "# print(f'R2 Score of XGB with XGB: {r2_GB}')"
   ]
  },
  {
   "cell_type": "code",
   "execution_count": 861,
   "metadata": {},
   "outputs": [
    {
     "data": {
      "text/plain": [
       "DecisionTreeRegressor()"
      ]
     },
     "execution_count": 861,
     "metadata": {},
     "output_type": "execute_result"
    }
   ],
   "source": [
    "from sklearn.tree import DecisionTreeRegressor\n",
    "\n",
    "DT = DecisionTreeRegressor()\n",
    "DT.fit(GB_X_train, y_train_for_xgb)"
   ]
  },
  {
   "cell_type": "markdown",
   "metadata": {},
   "source": [
    "# Testing"
   ]
  },
  {
   "cell_type": "code",
   "execution_count": 862,
   "metadata": {},
   "outputs": [
    {
     "data": {
      "text/plain": [
       "MinMaxScaler()"
      ]
     },
     "execution_count": 862,
     "metadata": {},
     "output_type": "execute_result"
    }
   ],
   "source": [
    "# fit scaler to revert y data to original scale\n",
    "ms.fit(Original_y_train)"
   ]
  },
  {
   "cell_type": "code",
   "execution_count": 863,
   "metadata": {
    "execution": {
     "iopub.execute_input": "2023-01-02T22:28:12.251285Z",
     "iopub.status.busy": "2023-01-02T22:28:12.250842Z",
     "iopub.status.idle": "2023-01-02T22:28:12.258175Z",
     "shell.execute_reply": "2023-01-02T22:28:12.257184Z",
     "shell.execute_reply.started": "2023-01-02T22:28:12.251249Z"
    }
   },
   "outputs": [
    {
     "data": {
      "text/plain": [
       "TensorShape([30016, 29])"
      ]
     },
     "execution_count": 863,
     "metadata": {},
     "output_type": "execute_result"
    }
   ],
   "source": [
    "X_test.shape"
   ]
  },
  {
   "cell_type": "code",
   "execution_count": 864,
   "metadata": {},
   "outputs": [
    {
     "data": {
      "text/plain": [
       "(array([[ 7366.],\n",
       "        [64831.],\n",
       "        [ 6195.],\n",
       "        ...,\n",
       "        [56991.],\n",
       "        [ 3149.],\n",
       "        [ 9707.]]),\n",
       " array([[ 7067.525 ],\n",
       "        [70992.3   ],\n",
       "        [ 6908.2695],\n",
       "        ...,\n",
       "        [65803.73  ],\n",
       "        [10263.284 ],\n",
       "        [ 9070.01  ]], dtype=float32))"
      ]
     },
     "execution_count": 864,
     "metadata": {},
     "output_type": "execute_result"
    }
   ],
   "source": [
    "y_test = ms.inverse_transform(y_test)\n",
    "pred = ms.inverse_transform(pred)\n",
    "\n",
    "y_test, pred"
   ]
  },
  {
   "cell_type": "code",
   "execution_count": 883,
   "metadata": {
    "execution": {
     "iopub.execute_input": "2023-01-02T22:28:12.260612Z",
     "iopub.status.busy": "2023-01-02T22:28:12.259834Z",
     "iopub.status.idle": "2023-01-02T22:28:12.664674Z",
     "shell.execute_reply": "2023-01-02T22:28:12.663818Z",
     "shell.execute_reply.started": "2023-01-02T22:28:12.260567Z"
    }
   },
   "outputs": [
    {
     "name": "stdout",
     "output_type": "stream",
     "text": [
      "118/118 [==============================] - 2s 16ms/step - loss: 8.7052e-04 - mean_absolute_error: 0.0154 - root_mean_squared_error: 0.0295\n"
     ]
    },
    {
     "data": {
      "text/plain": [
       "[0.000870517804287374, 0.015360978431999683, 0.02950453944504261]"
      ]
     },
     "execution_count": 883,
     "metadata": {},
     "output_type": "execute_result"
    }
   ],
   "source": [
    "model.evaluate(data_te_batches)"
   ]
  },
  {
   "cell_type": "code",
   "execution_count": 884,
   "metadata": {
    "execution": {
     "iopub.execute_input": "2023-01-02T22:28:12.666539Z",
     "iopub.status.busy": "2023-01-02T22:28:12.666205Z",
     "iopub.status.idle": "2023-01-02T22:28:13.056154Z",
     "shell.execute_reply": "2023-01-02T22:28:13.055140Z",
     "shell.execute_reply.started": "2023-01-02T22:28:12.666506Z"
    },
    "scrolled": true
   },
   "outputs": [
    {
     "name": "stdout",
     "output_type": "stream",
     "text": [
      "118/118 [==============================] - 2s 15ms/step\n",
      "[[ 5840.778 ]\n",
      " [70522.46  ]\n",
      " [ 7472.997 ]\n",
      " ...\n",
      " [66237.66  ]\n",
      " [ 6841.1445]\n",
      " [ 9211.856 ]]\n",
      "--------------------------------------------------\n",
      "R2 Score : 0.9782545394212524\n",
      "Mean Absolute Error Score : 1742.2113118405534\n",
      "Mean Sqaured Error Score : 11198028.642221002\n",
      "Root Mean Squared Error: 3346.34556527281\n",
      "--------------------------------------------------\n"
     ]
    }
   ],
   "source": [
    "score_dict={}\n",
    "\n",
    "for reg in [model]:\n",
    "    \n",
    "    pred=reg.predict(data_tre_batches)\n",
    "    pred = ms.inverse_transform(pred)\n",
    "    \n",
    "    print(pred)\n",
    "        \n",
    "    print(\"-\"*50)\n",
    "    \n",
    "    print(f\"R2 Score : {r2_score(y_test,pred)}\")\n",
    "    print(f\"Mean Absolute Error Score : {mean_absolute_error(y_test,pred)}\")\n",
    "    print(f\"Mean Sqaured Error Score : {mean_squared_error(y_test,pred)}\")\n",
    "    print(f\"Root Mean Squared Error: {mean_squared_error(y_test,pred, squared=False)}\")\n",
    "    \n",
    "    \n",
    "    score_dict['NN']={\n",
    "        \"R2 Score\":r2_score(y_test,pred),\n",
    "        \"Mean Absolute Error Score\":mean_absolute_error(y_test,pred),\n",
    "        \"Mean Squared Error Score\":mean_squared_error(y_test,pred),\n",
    "        \"Root Mean Squared Error\": mean_squared_error(y_test,pred, squared=False)\n",
    "    }\n",
    "    \n",
    "    print(\"-\"*50)"
   ]
  },
  {
   "cell_type": "code",
   "execution_count": 885,
   "metadata": {},
   "outputs": [
    {
     "data": {
      "text/plain": [
       "(array([[ 7366.],\n",
       "        [64831.],\n",
       "        [ 6195.],\n",
       "        ...,\n",
       "        [56991.],\n",
       "        [ 3149.],\n",
       "        [ 9707.]]),\n",
       " array([[ 5840.778 ],\n",
       "        [70522.46  ],\n",
       "        [ 7472.997 ],\n",
       "        ...,\n",
       "        [66237.66  ],\n",
       "        [ 6841.1445],\n",
       "        [ 9211.856 ]], dtype=float32))"
      ]
     },
     "execution_count": 885,
     "metadata": {},
     "output_type": "execute_result"
    }
   ],
   "source": [
    "y_test, pred"
   ]
  },
  {
   "cell_type": "code",
   "execution_count": 886,
   "metadata": {},
   "outputs": [
    {
     "data": {
      "text/plain": [
       "(0.9782545394212524, 11198028.642221002, 1742.2113118405534, 3346.34556527281)"
      ]
     },
     "execution_count": 886,
     "metadata": {},
     "output_type": "execute_result"
    }
   ],
   "source": [
    "r2_score(y_test,pred), mean_squared_error(y_test,pred), mean_absolute_error(y_test,pred), mean_squared_error(y_test,pred, squared=False)"
   ]
  },
  {
   "cell_type": "code",
   "execution_count": 887,
   "metadata": {},
   "outputs": [
    {
     "data": {
      "text/plain": [
       "array([[ 5840.778 ],\n",
       "       [70522.46  ],\n",
       "       [ 7472.997 ],\n",
       "       ...,\n",
       "       [66237.66  ],\n",
       "       [ 6841.1445],\n",
       "       [ 9211.856 ]], dtype=float32)"
      ]
     },
     "execution_count": 887,
     "metadata": {},
     "output_type": "execute_result"
    }
   ],
   "source": [
    "pred"
   ]
  },
  {
   "cell_type": "code",
   "execution_count": 888,
   "metadata": {},
   "outputs": [
    {
     "data": {
      "text/plain": [
       "array([[6.6245043e+08],\n",
       "       [7.9985172e+09],\n",
       "       [8.4757350e+08],\n",
       "       ...,\n",
       "       [7.5125432e+09],\n",
       "       [7.7591002e+08],\n",
       "       [1.0447914e+09]], dtype=float32)"
      ]
     },
     "execution_count": 888,
     "metadata": {},
     "output_type": "execute_result"
    }
   ],
   "source": [
    "ms.inverse_transform(pred)"
   ]
  },
  {
   "cell_type": "code",
   "execution_count": 889,
   "metadata": {},
   "outputs": [
    {
     "data": {
      "text/html": [
       "<div>\n",
       "<style scoped>\n",
       "    .dataframe tbody tr th:only-of-type {\n",
       "        vertical-align: middle;\n",
       "    }\n",
       "\n",
       "    .dataframe tbody tr th {\n",
       "        vertical-align: top;\n",
       "    }\n",
       "\n",
       "    .dataframe thead th {\n",
       "        text-align: right;\n",
       "    }\n",
       "</style>\n",
       "<table border=\"1\" class=\"dataframe\">\n",
       "  <thead>\n",
       "    <tr style=\"text-align: right;\">\n",
       "      <th></th>\n",
       "      <th>Real value</th>\n",
       "      <th>Predict value</th>\n",
       "      <th>Difference</th>\n",
       "    </tr>\n",
       "  </thead>\n",
       "  <tbody>\n",
       "    <tr>\n",
       "      <th>0</th>\n",
       "      <td>7366.0</td>\n",
       "      <td>5840.777832</td>\n",
       "      <td>1525.222168</td>\n",
       "    </tr>\n",
       "    <tr>\n",
       "      <th>1</th>\n",
       "      <td>64831.0</td>\n",
       "      <td>70522.460938</td>\n",
       "      <td>-5691.460938</td>\n",
       "    </tr>\n",
       "    <tr>\n",
       "      <th>2</th>\n",
       "      <td>6195.0</td>\n",
       "      <td>7472.997070</td>\n",
       "      <td>-1277.997070</td>\n",
       "    </tr>\n",
       "    <tr>\n",
       "      <th>3</th>\n",
       "      <td>60160.0</td>\n",
       "      <td>63122.695312</td>\n",
       "      <td>-2962.695312</td>\n",
       "    </tr>\n",
       "    <tr>\n",
       "      <th>4</th>\n",
       "      <td>6578.0</td>\n",
       "      <td>7377.476562</td>\n",
       "      <td>-799.476562</td>\n",
       "    </tr>\n",
       "    <tr>\n",
       "      <th>...</th>\n",
       "      <td>...</td>\n",
       "      <td>...</td>\n",
       "      <td>...</td>\n",
       "    </tr>\n",
       "    <tr>\n",
       "      <th>30011</th>\n",
       "      <td>80458.0</td>\n",
       "      <td>57353.210938</td>\n",
       "      <td>23104.789062</td>\n",
       "    </tr>\n",
       "    <tr>\n",
       "      <th>30012</th>\n",
       "      <td>4048.0</td>\n",
       "      <td>4399.420898</td>\n",
       "      <td>-351.420898</td>\n",
       "    </tr>\n",
       "    <tr>\n",
       "      <th>30013</th>\n",
       "      <td>56991.0</td>\n",
       "      <td>66237.656250</td>\n",
       "      <td>-9246.656250</td>\n",
       "    </tr>\n",
       "    <tr>\n",
       "      <th>30014</th>\n",
       "      <td>3149.0</td>\n",
       "      <td>6841.144531</td>\n",
       "      <td>-3692.144531</td>\n",
       "    </tr>\n",
       "    <tr>\n",
       "      <th>30015</th>\n",
       "      <td>9707.0</td>\n",
       "      <td>9211.856445</td>\n",
       "      <td>495.143555</td>\n",
       "    </tr>\n",
       "  </tbody>\n",
       "</table>\n",
       "<p>30016 rows × 3 columns</p>\n",
       "</div>"
      ],
      "text/plain": [
       "       Real value  Predict value    Difference\n",
       "0          7366.0    5840.777832   1525.222168\n",
       "1         64831.0   70522.460938  -5691.460938\n",
       "2          6195.0    7472.997070  -1277.997070\n",
       "3         60160.0   63122.695312  -2962.695312\n",
       "4          6578.0    7377.476562   -799.476562\n",
       "...           ...            ...           ...\n",
       "30011     80458.0   57353.210938  23104.789062\n",
       "30012      4048.0    4399.420898   -351.420898\n",
       "30013     56991.0   66237.656250  -9246.656250\n",
       "30014      3149.0    6841.144531  -3692.144531\n",
       "30015      9707.0    9211.856445    495.143555\n",
       "\n",
       "[30016 rows x 3 columns]"
      ]
     },
     "execution_count": 889,
     "metadata": {},
     "output_type": "execute_result"
    }
   ],
   "source": [
    "table_norm_nn = pd.DataFrame({'Real value':np.squeeze((y_test)),\n",
    "                              'Predict value':np.squeeze((pred)),\n",
    "                              'Difference':(np.squeeze((y_test))-np.squeeze((pred)))})\n",
    "table_norm_nn"
   ]
  },
  {
   "cell_type": "code",
   "execution_count": 872,
   "metadata": {},
   "outputs": [
    {
     "name": "stdout",
     "output_type": "stream",
     "text": [
      "For STD: 22692.716 \n",
      "Sum of good prediction: 0 from total testing predict: 30016 \n",
      "Success rate: 0.000 %\n"
     ]
    }
   ],
   "source": [
    "# Calculate success rate - by norm variables\n",
    "success_rate = 0.35\n",
    "count = 0\n",
    "\n",
    "for diff, real in zip(table_norm_nn[\"Difference\"], table_norm_nn[\"Real value\"]):\n",
    "    if (np.abs(diff) <= real *(success_rate)).any(): #Todo: why we did this check? I think we need better result \n",
    "        count += 1\n",
    "#         print(\"{:.0f} < {:.0f}\".format(np.abs(diff), real *(success_rate)))\n",
    "    \n",
    "    accuracy_nn = (count/X_test.shape[0])*100\n",
    "    \n",
    "print(\"For STD:\", \"{:.3f}\".format(y_test.std()),\n",
    "      \"\\nSum of good prediction:\", count, \"from total testing predict:\", y_test.shape[0],\n",
    "      \"\\nSuccess rate:\", \"{:.3f}\".format(accuracy_nn), \"%\")"
   ]
  },
  {
   "cell_type": "code",
   "execution_count": 892,
   "metadata": {},
   "outputs": [
    {
     "name": "stdout",
     "output_type": "stream",
     "text": [
      "938/938 [==============================] - 6s 6ms/step\n",
      "\n",
      "----XGB Regression - validation----\n",
      "\n",
      "MSE of XGB with XGB: 11011909.014613489\n",
      "\n",
      "R2 Score of XGB with XGB: 0.9786159652716749\n",
      "\n"
     ]
    }
   ],
   "source": [
    "GB_X_test = intermediate_layer_model.predict(X_test)\n",
    "\n",
    "# Make predictions on the validation set\n",
    "GB_y_pred_test = GB_regressor.predict(GB_X_test)\n",
    "\n",
    "# Calculate the mean squared error\n",
    "GB_y_pred_test = ms.inverse_transform(GB_y_pred_test.reshape(-1, 1))\n",
    "mse_GB = mean_squared_error(y_test, GB_y_pred_test)\n",
    "r2_GB = r2_score(y_test,GB_y_pred_test)\n",
    "print('\\n----XGB Regression - validation----\\n')\n",
    "print(f'MSE of XGB with XGB: {mse_GB}\\n')\n",
    "print(f'R2 Score of XGB with XGB: {r2_GB}\\n')\n",
    "\n",
    "score_dict['XGB']={\n",
    "    \"R2 Score\":r2_score(y_test,GB_y_pred_test),\n",
    "    \"Mean Absolute Error Score\":mean_absolute_error(y_test,GB_y_pred_test),\n",
    "    \"Mean Squared Error Score\":mean_squared_error(y_test,GB_y_pred_test),\n",
    "    \"Root Mean Squared Error\": mean_squared_error(y_test,GB_y_pred_test, squared=False)\n",
    "}"
   ]
  },
  {
   "cell_type": "code",
   "execution_count": 896,
   "metadata": {},
   "outputs": [
    {
     "data": {
      "text/plain": [
       "(11011909.014613489,\n",
       " 11011909.014613489,\n",
       " {'R2 Score': 0.9786159652716749,\n",
       "  'Mean Absolute Error Score': 1752.7057334354945,\n",
       "  'Mean Squared Error Score': 11011909.014613489,\n",
       "  'Root Mean Squared Error': 3318.4196561938165})"
      ]
     },
     "execution_count": 896,
     "metadata": {},
     "output_type": "execute_result"
    }
   ],
   "source": [
    "mean_squared_error(y_test,GB_y_pred_test), mean_squared_error(y_test, GB_y_pred_test), score_dict['XGB']"
   ]
  },
  {
   "cell_type": "code",
   "execution_count": 890,
   "metadata": {},
   "outputs": [
    {
     "name": "stdout",
     "output_type": "stream",
     "text": [
      "938/938 [==============================] - 6s 6ms/step\n",
      "----Decision Tree Regression - validation----\n",
      "MSE of DT with DT: 20209998.360368554\n",
      "R2 Score of DT with DT 0.9607541883769657\n"
     ]
    }
   ],
   "source": [
    "GB_X_test = intermediate_layer_model.predict(X_test)\n",
    "\n",
    "\n",
    "DT_y_pred_test = DT.predict(GB_X_test)\n",
    "\n",
    "DT_y_pred_test = ms.inverse_transform(DT_y_pred_test.reshape(-1, 1))\n",
    "mse_DT_test = mean_squared_error(y_test, DT_y_pred_test)\n",
    "r2_DT_test = r2_score(y_test,DT_y_pred_test)\n",
    "print('----Decision Tree Regression - validation----')\n",
    "print(f'MSE of DT with DT: {mse_DT_test}')\n",
    "print('R2 Score of DT with DT', r2_DT_test)\n",
    "\n",
    "score_dict['DT']={\n",
    "    \"R2 Score\":r2_score(y_test,DT_y_pred_test),\n",
    "    \"Mean Absolute Error Score\":mean_absolute_error(y_test,DT_y_pred_test),\n",
    "    \"Mean Squared Error Score\":mean_squared_error(y_test,DT_y_pred_test),\n",
    "    \"Root Mean Squared Error\": mean_squared_error(y_test,DT_y_pred_test, squared=False)\n",
    "}"
   ]
  },
  {
   "cell_type": "markdown",
   "metadata": {},
   "source": [
    "# Results"
   ]
  },
  {
   "cell_type": "code",
   "execution_count": 893,
   "metadata": {
    "execution": {
     "iopub.execute_input": "2023-01-02T22:28:13.058071Z",
     "iopub.status.busy": "2023-01-02T22:28:13.057715Z",
     "iopub.status.idle": "2023-01-02T22:28:13.070679Z",
     "shell.execute_reply": "2023-01-02T22:28:13.069695Z",
     "shell.execute_reply.started": "2023-01-02T22:28:13.058035Z"
    }
   },
   "outputs": [
    {
     "data": {
      "text/html": [
       "<div>\n",
       "<style scoped>\n",
       "    .dataframe tbody tr th:only-of-type {\n",
       "        vertical-align: middle;\n",
       "    }\n",
       "\n",
       "    .dataframe tbody tr th {\n",
       "        vertical-align: top;\n",
       "    }\n",
       "\n",
       "    .dataframe thead th {\n",
       "        text-align: right;\n",
       "    }\n",
       "</style>\n",
       "<table border=\"1\" class=\"dataframe\">\n",
       "  <thead>\n",
       "    <tr style=\"text-align: right;\">\n",
       "      <th></th>\n",
       "      <th>R2 Score</th>\n",
       "      <th>Mean Absolute Error Score</th>\n",
       "      <th>Mean Squared Error Score</th>\n",
       "      <th>Root Mean Squared Error</th>\n",
       "    </tr>\n",
       "  </thead>\n",
       "  <tbody>\n",
       "    <tr>\n",
       "      <th>XGB</th>\n",
       "      <td>0.978616</td>\n",
       "      <td>1752.705733</td>\n",
       "      <td>1.101191e+07</td>\n",
       "      <td>3318.419656</td>\n",
       "    </tr>\n",
       "    <tr>\n",
       "      <th>NN</th>\n",
       "      <td>0.978255</td>\n",
       "      <td>1742.211312</td>\n",
       "      <td>1.119803e+07</td>\n",
       "      <td>3346.345565</td>\n",
       "    </tr>\n",
       "    <tr>\n",
       "      <th>DT</th>\n",
       "      <td>0.960754</td>\n",
       "      <td>2293.920610</td>\n",
       "      <td>2.021000e+07</td>\n",
       "      <td>4495.553176</td>\n",
       "    </tr>\n",
       "  </tbody>\n",
       "</table>\n",
       "</div>"
      ],
      "text/plain": [
       "     R2 Score  Mean Absolute Error Score  Mean Squared Error Score  \\\n",
       "XGB  0.978616                1752.705733              1.101191e+07   \n",
       "NN   0.978255                1742.211312              1.119803e+07   \n",
       "DT   0.960754                2293.920610              2.021000e+07   \n",
       "\n",
       "     Root Mean Squared Error  \n",
       "XGB              3318.419656  \n",
       "NN               3346.345565  \n",
       "DT               4495.553176  "
      ]
     },
     "execution_count": 893,
     "metadata": {},
     "output_type": "execute_result"
    }
   ],
   "source": [
    "score_pd=pd.DataFrame(score_dict).transpose().sort_values(\"R2 Score\",ascending=False)\n",
    "score_pd"
   ]
  },
  {
   "cell_type": "code",
   "execution_count": 876,
   "metadata": {
    "execution": {
     "iopub.execute_input": "2023-01-02T22:28:13.073249Z",
     "iopub.status.busy": "2023-01-02T22:28:13.072005Z",
     "iopub.status.idle": "2023-01-02T22:28:15.655347Z",
     "shell.execute_reply": "2023-01-02T22:28:15.654287Z",
     "shell.execute_reply.started": "2023-01-02T22:28:13.073215Z"
    }
   },
   "outputs": [
    {
     "name": "stdout",
     "output_type": "stream",
     "text": [
      "938/938 [==============================] - 7s 8ms/step\n"
     ]
    }
   ],
   "source": [
    "pred1=model.predict(X_test)"
   ]
  },
  {
   "cell_type": "code",
   "execution_count": 877,
   "metadata": {
    "execution": {
     "iopub.execute_input": "2023-01-02T22:28:15.658251Z",
     "iopub.status.busy": "2023-01-02T22:28:15.657621Z",
     "iopub.status.idle": "2023-01-02T22:28:17.032872Z",
     "shell.execute_reply": "2023-01-02T22:28:17.031825Z",
     "shell.execute_reply.started": "2023-01-02T22:28:15.658211Z"
    }
   },
   "outputs": [
    {
     "data": {
      "text/plain": [
       "<AxesSubplot:ylabel='diff'>"
      ]
     },
     "execution_count": 877,
     "metadata": {},
     "output_type": "execute_result"
    },
    {
     "data": {
      "image/png": "[encoded data removed]",
      "text/plain": [
       "<Figure size 2500x800 with 1 Axes>"
      ]
     },
     "metadata": {},
     "output_type": "display_data"
    }
   ],
   "source": [
    "res=pd.DataFrame({\"pred\":pred1.ravel(),\"y_test\":y_test.ravel(),\"diff\":abs(pred1.ravel()-y_test.ravel())})\n",
    "\n",
    "plt.figure(figsize=(25,8))\n",
    "sns.lineplot(data=res['diff'])"
   ]
  },
  {
   "cell_type": "code",
   "execution_count": 907,
   "metadata": {},
   "outputs": [
    {
     "data": {
      "text/plain": [
       "<Figure size 1500x800 with 0 Axes>"
      ]
     },
     "metadata": {},
     "output_type": "display_data"
    },
    {
     "data": {
      "image/png": "[encoded data removed]",
      "text/plain": [
       "<Figure size 1200x600 with 1 Axes>"
      ]
     },
     "metadata": {},
     "output_type": "display_data"
    }
   ],
   "source": [
    "plt.figure(figsize=(15,8))\n",
    "# Data of R2\n",
    "labels = ['NN', 'XGB from NN', 'DT from NN']\n",
    "data = [0.978255, r2_GB, r2_DT_test]\n",
    "\n",
    "plt.figure(figsize=(12,6))\n",
    "# Create the plot\n",
    "plt.plot(labels, data, color='green', marker='o')\n",
    "\n",
    "# Add a title and axis labels\n",
    "plt.title('R2 Score Comparison')\n",
    "plt.xlabel('R2 Score')\n",
    "\n",
    "\n",
    "# Show the plot\n",
    "plt.show()"
   ]
  },
  {
   "cell_type": "code",
   "execution_count": 906,
   "metadata": {},
   "outputs": [
    {
     "data": {
      "image/png": "[encoded data removed]",
      "text/plain": [
       "<Figure size 1200x600 with 1 Axes>"
      ]
     },
     "metadata": {},
     "output_type": "display_data"
    }
   ],
   "source": [
    "# Data of MSE\n",
    "labels = ['NN', 'XGB from NN', 'DT from NN']\n",
    "data = [1742.2113118405534, mse_GB, mse_DT_test]\n",
    "\n",
    "plt.figure(figsize=(12,6))\n",
    "# Create the plot\n",
    "plt.plot(labels, data, color='blue', marker='o')\n",
    "\n",
    "# Add a title and axis labels\n",
    "plt.title('MSE Comparison')\n",
    "plt.xlabel('MSE')\n",
    "\n",
    "\n",
    "# Show the plot\n",
    "plt.show()"
   ]
  },
  {
   "cell_type": "code",
   "execution_count": 880,
   "metadata": {},
   "outputs": [
    {
     "data": {
      "text/plain": [
       "((30016, 1),\n",
       " array([[0.04175508],\n",
       "        [0.61204976],\n",
       "        [0.05614626],\n",
       "        ...,\n",
       "        [0.57427084],\n",
       "        [0.05057526],\n",
       "        [0.07147769]], dtype=float32))"
      ]
     },
     "execution_count": 880,
     "metadata": {},
     "output_type": "execute_result"
    }
   ],
   "source": [
    "pred.shape, pred"
   ]
  },
  {
   "cell_type": "code",
   "execution_count": 881,
   "metadata": {},
   "outputs": [
    {
     "data": {
      "text/plain": [
       "949696335.4253778"
      ]
     },
     "execution_count": 881,
     "metadata": {},
     "output_type": "execute_result"
    }
   ],
   "source": [
    "# Calculate the mean squared error\n",
    "mse = mean_squared_error(y_test, pred)\n",
    "mse"
   ]
  },
  {
   "cell_type": "code",
   "execution_count": 882,
   "metadata": {},
   "outputs": [
    {
     "data": {
      "text/plain": [
       "-0.8442160565573977"
      ]
     },
     "execution_count": 882,
     "metadata": {},
     "output_type": "execute_result"
    }
   ],
   "source": [
    "r2_score(y_test,pred)"
   ]
  },
  {
   "cell_type": "code",
   "execution_count": null,
   "metadata": {},
   "outputs": [],
   "source": []
  },
  {
   "cell_type": "code",
   "execution_count": null,
   "metadata": {},
   "outputs": [],
   "source": []
  }
 ],
 "metadata": {
  "kernelspec": {
   "display_name": "Python 3 (ipykernel)",
   "language": "python",
   "name": "python3"
  },
  "language_info": {
   "codemirror_mode": {
    "name": "ipython",
    "version": 3
   },
   "file_extension": ".py",
   "mimetype": "text/x-python",
   "name": "python",
   "nbconvert_exporter": "python",
   "pygments_lexer": "ipython3",
   "version": "3.9.13"
  }
 },
 "nbformat": 4,
 "nbformat_minor": 4
}
